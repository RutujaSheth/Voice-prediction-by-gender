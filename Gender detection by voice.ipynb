{
 "cells": [
  {
   "cell_type": "code",
   "execution_count": 1,
   "id": "b44f425a",
   "metadata": {},
   "outputs": [],
   "source": [
    "import pandas as pd\n",
    "import numpy as np\n",
    "import matplotlib.pyplot as plt\n",
    "import seaborn as sns\n",
    "%matplotlib inline"
   ]
  },
  {
   "cell_type": "code",
   "execution_count": 2,
   "id": "7fb7a895",
   "metadata": {},
   "outputs": [],
   "source": [
    "# read file\n",
    "data = pd.read_csv(r\"C:\\Users\\Hp\\Desktop\\insaid class\\Projects\\Voice prediction by gender\\Gender-Recognition-by-Voice1\\voice_train.csv\")"
   ]
  },
  {
   "cell_type": "code",
   "execution_count": 3,
   "id": "d50e4a6d",
   "metadata": {},
   "outputs": [
    {
     "data": {
      "text/html": [
       "<div>\n",
       "<style scoped>\n",
       "    .dataframe tbody tr th:only-of-type {\n",
       "        vertical-align: middle;\n",
       "    }\n",
       "\n",
       "    .dataframe tbody tr th {\n",
       "        vertical-align: top;\n",
       "    }\n",
       "\n",
       "    .dataframe thead th {\n",
       "        text-align: right;\n",
       "    }\n",
       "</style>\n",
       "<table border=\"1\" class=\"dataframe\">\n",
       "  <thead>\n",
       "    <tr style=\"text-align: right;\">\n",
       "      <th></th>\n",
       "      <th>Id</th>\n",
       "      <th>meanfreq</th>\n",
       "      <th>sd</th>\n",
       "      <th>median</th>\n",
       "      <th>Q25</th>\n",
       "      <th>Q75</th>\n",
       "      <th>IQR</th>\n",
       "      <th>skew</th>\n",
       "      <th>kurt</th>\n",
       "      <th>sp.ent</th>\n",
       "      <th>...</th>\n",
       "      <th>centroid</th>\n",
       "      <th>meanfun</th>\n",
       "      <th>minfun</th>\n",
       "      <th>maxfun</th>\n",
       "      <th>meandom</th>\n",
       "      <th>mindom</th>\n",
       "      <th>maxdom</th>\n",
       "      <th>dfrange</th>\n",
       "      <th>modindx</th>\n",
       "      <th>label</th>\n",
       "    </tr>\n",
       "  </thead>\n",
       "  <tbody>\n",
       "    <tr>\n",
       "      <th>0</th>\n",
       "      <td>765</td>\n",
       "      <td>0.162337</td>\n",
       "      <td>0.058206</td>\n",
       "      <td>0.174065</td>\n",
       "      <td>0.100225</td>\n",
       "      <td>0.196512</td>\n",
       "      <td>0.096287</td>\n",
       "      <td>2.127226</td>\n",
       "      <td>7.815129</td>\n",
       "      <td>0.921533</td>\n",
       "      <td>...</td>\n",
       "      <td>0.162337</td>\n",
       "      <td>0.095852</td>\n",
       "      <td>0.016754</td>\n",
       "      <td>0.235294</td>\n",
       "      <td>0.406033</td>\n",
       "      <td>0.046875</td>\n",
       "      <td>3.484375</td>\n",
       "      <td>3.437500</td>\n",
       "      <td>0.155348</td>\n",
       "      <td>male</td>\n",
       "    </tr>\n",
       "    <tr>\n",
       "      <th>1</th>\n",
       "      <td>3071</td>\n",
       "      <td>0.161653</td>\n",
       "      <td>0.057435</td>\n",
       "      <td>0.170138</td>\n",
       "      <td>0.157522</td>\n",
       "      <td>0.182929</td>\n",
       "      <td>0.025407</td>\n",
       "      <td>6.968850</td>\n",
       "      <td>60.968047</td>\n",
       "      <td>0.870409</td>\n",
       "      <td>...</td>\n",
       "      <td>0.161653</td>\n",
       "      <td>0.163486</td>\n",
       "      <td>0.015601</td>\n",
       "      <td>0.204082</td>\n",
       "      <td>0.595161</td>\n",
       "      <td>0.170898</td>\n",
       "      <td>3.979492</td>\n",
       "      <td>3.808594</td>\n",
       "      <td>0.209073</td>\n",
       "      <td>female</td>\n",
       "    </tr>\n",
       "    <tr>\n",
       "      <th>2</th>\n",
       "      <td>1546</td>\n",
       "      <td>0.165290</td>\n",
       "      <td>0.061891</td>\n",
       "      <td>0.135071</td>\n",
       "      <td>0.118468</td>\n",
       "      <td>0.225176</td>\n",
       "      <td>0.106708</td>\n",
       "      <td>2.631865</td>\n",
       "      <td>12.629116</td>\n",
       "      <td>0.918897</td>\n",
       "      <td>...</td>\n",
       "      <td>0.165290</td>\n",
       "      <td>0.120050</td>\n",
       "      <td>0.035088</td>\n",
       "      <td>0.222222</td>\n",
       "      <td>0.458577</td>\n",
       "      <td>0.087891</td>\n",
       "      <td>1.015625</td>\n",
       "      <td>0.927734</td>\n",
       "      <td>0.459834</td>\n",
       "      <td>male</td>\n",
       "    </tr>\n",
       "    <tr>\n",
       "      <th>3</th>\n",
       "      <td>410</td>\n",
       "      <td>0.188100</td>\n",
       "      <td>0.055735</td>\n",
       "      <td>0.206028</td>\n",
       "      <td>0.130493</td>\n",
       "      <td>0.229470</td>\n",
       "      <td>0.098977</td>\n",
       "      <td>1.538406</td>\n",
       "      <td>5.145753</td>\n",
       "      <td>0.914325</td>\n",
       "      <td>...</td>\n",
       "      <td>0.188100</td>\n",
       "      <td>0.108470</td>\n",
       "      <td>0.021305</td>\n",
       "      <td>0.145455</td>\n",
       "      <td>0.493229</td>\n",
       "      <td>0.125000</td>\n",
       "      <td>4.734375</td>\n",
       "      <td>4.609375</td>\n",
       "      <td>0.105202</td>\n",
       "      <td>male</td>\n",
       "    </tr>\n",
       "    <tr>\n",
       "      <th>4</th>\n",
       "      <td>2689</td>\n",
       "      <td>0.187497</td>\n",
       "      <td>0.044226</td>\n",
       "      <td>0.190071</td>\n",
       "      <td>0.156800</td>\n",
       "      <td>0.215435</td>\n",
       "      <td>0.058635</td>\n",
       "      <td>1.653083</td>\n",
       "      <td>5.839465</td>\n",
       "      <td>0.907477</td>\n",
       "      <td>...</td>\n",
       "      <td>0.187497</td>\n",
       "      <td>0.154529</td>\n",
       "      <td>0.048338</td>\n",
       "      <td>0.279070</td>\n",
       "      <td>1.113502</td>\n",
       "      <td>0.023438</td>\n",
       "      <td>8.765625</td>\n",
       "      <td>8.742188</td>\n",
       "      <td>0.103095</td>\n",
       "      <td>female</td>\n",
       "    </tr>\n",
       "  </tbody>\n",
       "</table>\n",
       "<p>5 rows × 22 columns</p>\n",
       "</div>"
      ],
      "text/plain": [
       "     Id  meanfreq        sd    median       Q25       Q75       IQR      skew  \\\n",
       "0   765  0.162337  0.058206  0.174065  0.100225  0.196512  0.096287  2.127226   \n",
       "1  3071  0.161653  0.057435  0.170138  0.157522  0.182929  0.025407  6.968850   \n",
       "2  1546  0.165290  0.061891  0.135071  0.118468  0.225176  0.106708  2.631865   \n",
       "3   410  0.188100  0.055735  0.206028  0.130493  0.229470  0.098977  1.538406   \n",
       "4  2689  0.187497  0.044226  0.190071  0.156800  0.215435  0.058635  1.653083   \n",
       "\n",
       "        kurt    sp.ent  ...  centroid   meanfun    minfun    maxfun   meandom  \\\n",
       "0   7.815129  0.921533  ...  0.162337  0.095852  0.016754  0.235294  0.406033   \n",
       "1  60.968047  0.870409  ...  0.161653  0.163486  0.015601  0.204082  0.595161   \n",
       "2  12.629116  0.918897  ...  0.165290  0.120050  0.035088  0.222222  0.458577   \n",
       "3   5.145753  0.914325  ...  0.188100  0.108470  0.021305  0.145455  0.493229   \n",
       "4   5.839465  0.907477  ...  0.187497  0.154529  0.048338  0.279070  1.113502   \n",
       "\n",
       "     mindom    maxdom   dfrange   modindx   label  \n",
       "0  0.046875  3.484375  3.437500  0.155348    male  \n",
       "1  0.170898  3.979492  3.808594  0.209073  female  \n",
       "2  0.087891  1.015625  0.927734  0.459834    male  \n",
       "3  0.125000  4.734375  4.609375  0.105202    male  \n",
       "4  0.023438  8.765625  8.742188  0.103095  female  \n",
       "\n",
       "[5 rows x 22 columns]"
      ]
     },
     "execution_count": 3,
     "metadata": {},
     "output_type": "execute_result"
    }
   ],
   "source": [
    "data.head()"
   ]
  },
  {
   "cell_type": "code",
   "execution_count": 4,
   "id": "18a3cf56",
   "metadata": {},
   "outputs": [
    {
     "name": "stdout",
     "output_type": "stream",
     "text": [
      "<class 'pandas.core.frame.DataFrame'>\n",
      "RangeIndex: 2851 entries, 0 to 2850\n",
      "Data columns (total 22 columns):\n",
      " #   Column    Non-Null Count  Dtype  \n",
      "---  ------    --------------  -----  \n",
      " 0   Id        2851 non-null   int64  \n",
      " 1   meanfreq  2851 non-null   float64\n",
      " 2   sd        2851 non-null   float64\n",
      " 3   median    2851 non-null   float64\n",
      " 4   Q25       2851 non-null   float64\n",
      " 5   Q75       2851 non-null   float64\n",
      " 6   IQR       2851 non-null   float64\n",
      " 7   skew      2851 non-null   float64\n",
      " 8   kurt      2851 non-null   float64\n",
      " 9   sp.ent    2851 non-null   float64\n",
      " 10  sfm       2851 non-null   float64\n",
      " 11  mode      2851 non-null   float64\n",
      " 12  centroid  2851 non-null   float64\n",
      " 13  meanfun   2851 non-null   float64\n",
      " 14  minfun    2851 non-null   float64\n",
      " 15  maxfun    2851 non-null   float64\n",
      " 16  meandom   2851 non-null   float64\n",
      " 17  mindom    2851 non-null   float64\n",
      " 18  maxdom    2851 non-null   float64\n",
      " 19  dfrange   2851 non-null   float64\n",
      " 20  modindx   2851 non-null   float64\n",
      " 21  label     2851 non-null   object \n",
      "dtypes: float64(20), int64(1), object(1)\n",
      "memory usage: 490.1+ KB\n"
     ]
    }
   ],
   "source": [
    "data.info()"
   ]
  },
  {
   "cell_type": "code",
   "execution_count": 5,
   "id": "b0ebd0ae",
   "metadata": {},
   "outputs": [
    {
     "data": {
      "text/html": [
       "<div>\n",
       "<style scoped>\n",
       "    .dataframe tbody tr th:only-of-type {\n",
       "        vertical-align: middle;\n",
       "    }\n",
       "\n",
       "    .dataframe tbody tr th {\n",
       "        vertical-align: top;\n",
       "    }\n",
       "\n",
       "    .dataframe thead th {\n",
       "        text-align: right;\n",
       "    }\n",
       "</style>\n",
       "<table border=\"1\" class=\"dataframe\">\n",
       "  <thead>\n",
       "    <tr style=\"text-align: right;\">\n",
       "      <th></th>\n",
       "      <th>Id</th>\n",
       "      <th>meanfreq</th>\n",
       "      <th>sd</th>\n",
       "      <th>median</th>\n",
       "      <th>Q25</th>\n",
       "      <th>Q75</th>\n",
       "      <th>IQR</th>\n",
       "      <th>skew</th>\n",
       "      <th>kurt</th>\n",
       "      <th>sp.ent</th>\n",
       "      <th>...</th>\n",
       "      <th>mode</th>\n",
       "      <th>centroid</th>\n",
       "      <th>meanfun</th>\n",
       "      <th>minfun</th>\n",
       "      <th>maxfun</th>\n",
       "      <th>meandom</th>\n",
       "      <th>mindom</th>\n",
       "      <th>maxdom</th>\n",
       "      <th>dfrange</th>\n",
       "      <th>modindx</th>\n",
       "    </tr>\n",
       "  </thead>\n",
       "  <tbody>\n",
       "    <tr>\n",
       "      <th>count</th>\n",
       "      <td>2851.000000</td>\n",
       "      <td>2851.000000</td>\n",
       "      <td>2851.000000</td>\n",
       "      <td>2851.000000</td>\n",
       "      <td>2851.000000</td>\n",
       "      <td>2851.000000</td>\n",
       "      <td>2851.000000</td>\n",
       "      <td>2851.000000</td>\n",
       "      <td>2851.000000</td>\n",
       "      <td>2851.000000</td>\n",
       "      <td>...</td>\n",
       "      <td>2851.000000</td>\n",
       "      <td>2851.000000</td>\n",
       "      <td>2851.000000</td>\n",
       "      <td>2851.000000</td>\n",
       "      <td>2851.000000</td>\n",
       "      <td>2851.000000</td>\n",
       "      <td>2851.000000</td>\n",
       "      <td>2851.000000</td>\n",
       "      <td>2851.000000</td>\n",
       "      <td>2851.000000</td>\n",
       "    </tr>\n",
       "    <tr>\n",
       "      <th>mean</th>\n",
       "      <td>1591.565416</td>\n",
       "      <td>0.180923</td>\n",
       "      <td>0.057143</td>\n",
       "      <td>0.185722</td>\n",
       "      <td>0.140349</td>\n",
       "      <td>0.224730</td>\n",
       "      <td>0.084381</td>\n",
       "      <td>3.118469</td>\n",
       "      <td>35.808329</td>\n",
       "      <td>0.895312</td>\n",
       "      <td>...</td>\n",
       "      <td>0.165481</td>\n",
       "      <td>0.180923</td>\n",
       "      <td>0.142891</td>\n",
       "      <td>0.036834</td>\n",
       "      <td>0.258968</td>\n",
       "      <td>0.833608</td>\n",
       "      <td>0.052634</td>\n",
       "      <td>5.075745</td>\n",
       "      <td>5.023111</td>\n",
       "      <td>0.173933</td>\n",
       "    </tr>\n",
       "    <tr>\n",
       "      <th>std</th>\n",
       "      <td>909.939169</td>\n",
       "      <td>0.029796</td>\n",
       "      <td>0.016588</td>\n",
       "      <td>0.036175</td>\n",
       "      <td>0.048628</td>\n",
       "      <td>0.023509</td>\n",
       "      <td>0.042728</td>\n",
       "      <td>4.163727</td>\n",
       "      <td>131.430900</td>\n",
       "      <td>0.044795</td>\n",
       "      <td>...</td>\n",
       "      <td>0.076918</td>\n",
       "      <td>0.029796</td>\n",
       "      <td>0.032191</td>\n",
       "      <td>0.019182</td>\n",
       "      <td>0.029806</td>\n",
       "      <td>0.525565</td>\n",
       "      <td>0.062982</td>\n",
       "      <td>3.526201</td>\n",
       "      <td>3.525193</td>\n",
       "      <td>0.119463</td>\n",
       "    </tr>\n",
       "    <tr>\n",
       "      <th>min</th>\n",
       "      <td>1.000000</td>\n",
       "      <td>0.039363</td>\n",
       "      <td>0.018363</td>\n",
       "      <td>0.010975</td>\n",
       "      <td>0.000229</td>\n",
       "      <td>0.042946</td>\n",
       "      <td>0.014558</td>\n",
       "      <td>0.141735</td>\n",
       "      <td>2.068455</td>\n",
       "      <td>0.738651</td>\n",
       "      <td>...</td>\n",
       "      <td>0.000000</td>\n",
       "      <td>0.039363</td>\n",
       "      <td>0.055565</td>\n",
       "      <td>0.009775</td>\n",
       "      <td>0.108696</td>\n",
       "      <td>0.007812</td>\n",
       "      <td>0.004883</td>\n",
       "      <td>0.007812</td>\n",
       "      <td>0.000000</td>\n",
       "      <td>0.000000</td>\n",
       "    </tr>\n",
       "    <tr>\n",
       "      <th>25%</th>\n",
       "      <td>808.500000</td>\n",
       "      <td>0.163739</td>\n",
       "      <td>0.042082</td>\n",
       "      <td>0.169726</td>\n",
       "      <td>0.111139</td>\n",
       "      <td>0.208756</td>\n",
       "      <td>0.042663</td>\n",
       "      <td>1.638410</td>\n",
       "      <td>5.604497</td>\n",
       "      <td>0.862190</td>\n",
       "      <td>...</td>\n",
       "      <td>0.118100</td>\n",
       "      <td>0.163739</td>\n",
       "      <td>0.117578</td>\n",
       "      <td>0.018223</td>\n",
       "      <td>0.253968</td>\n",
       "      <td>0.423799</td>\n",
       "      <td>0.007812</td>\n",
       "      <td>2.207031</td>\n",
       "      <td>2.183594</td>\n",
       "      <td>0.099591</td>\n",
       "    </tr>\n",
       "    <tr>\n",
       "      <th>50%</th>\n",
       "      <td>1590.000000</td>\n",
       "      <td>0.184848</td>\n",
       "      <td>0.059151</td>\n",
       "      <td>0.190067</td>\n",
       "      <td>0.140229</td>\n",
       "      <td>0.225729</td>\n",
       "      <td>0.094235</td>\n",
       "      <td>2.183320</td>\n",
       "      <td>8.255809</td>\n",
       "      <td>0.901840</td>\n",
       "      <td>...</td>\n",
       "      <td>0.186667</td>\n",
       "      <td>0.184848</td>\n",
       "      <td>0.140678</td>\n",
       "      <td>0.046921</td>\n",
       "      <td>0.271186</td>\n",
       "      <td>0.767578</td>\n",
       "      <td>0.023438</td>\n",
       "      <td>4.992188</td>\n",
       "      <td>4.968750</td>\n",
       "      <td>0.139159</td>\n",
       "    </tr>\n",
       "    <tr>\n",
       "      <th>75%</th>\n",
       "      <td>2382.500000</td>\n",
       "      <td>0.199061</td>\n",
       "      <td>0.066891</td>\n",
       "      <td>0.210650</td>\n",
       "      <td>0.175690</td>\n",
       "      <td>0.243700</td>\n",
       "      <td>0.114208</td>\n",
       "      <td>2.932962</td>\n",
       "      <td>13.649354</td>\n",
       "      <td>0.928727</td>\n",
       "      <td>...</td>\n",
       "      <td>0.221341</td>\n",
       "      <td>0.199061</td>\n",
       "      <td>0.169593</td>\n",
       "      <td>0.047904</td>\n",
       "      <td>0.277457</td>\n",
       "      <td>1.180411</td>\n",
       "      <td>0.070312</td>\n",
       "      <td>7.078125</td>\n",
       "      <td>7.042969</td>\n",
       "      <td>0.209525</td>\n",
       "    </tr>\n",
       "    <tr>\n",
       "      <th>max</th>\n",
       "      <td>3167.000000</td>\n",
       "      <td>0.251124</td>\n",
       "      <td>0.115273</td>\n",
       "      <td>0.261224</td>\n",
       "      <td>0.247347</td>\n",
       "      <td>0.273469</td>\n",
       "      <td>0.252225</td>\n",
       "      <td>34.725453</td>\n",
       "      <td>1309.612887</td>\n",
       "      <td>0.981997</td>\n",
       "      <td>...</td>\n",
       "      <td>0.280000</td>\n",
       "      <td>0.251124</td>\n",
       "      <td>0.237636</td>\n",
       "      <td>0.204082</td>\n",
       "      <td>0.279114</td>\n",
       "      <td>2.957682</td>\n",
       "      <td>0.458984</td>\n",
       "      <td>21.867188</td>\n",
       "      <td>21.843750</td>\n",
       "      <td>0.932374</td>\n",
       "    </tr>\n",
       "  </tbody>\n",
       "</table>\n",
       "<p>8 rows × 21 columns</p>\n",
       "</div>"
      ],
      "text/plain": [
       "                Id     meanfreq           sd       median          Q25  \\\n",
       "count  2851.000000  2851.000000  2851.000000  2851.000000  2851.000000   \n",
       "mean   1591.565416     0.180923     0.057143     0.185722     0.140349   \n",
       "std     909.939169     0.029796     0.016588     0.036175     0.048628   \n",
       "min       1.000000     0.039363     0.018363     0.010975     0.000229   \n",
       "25%     808.500000     0.163739     0.042082     0.169726     0.111139   \n",
       "50%    1590.000000     0.184848     0.059151     0.190067     0.140229   \n",
       "75%    2382.500000     0.199061     0.066891     0.210650     0.175690   \n",
       "max    3167.000000     0.251124     0.115273     0.261224     0.247347   \n",
       "\n",
       "               Q75          IQR         skew         kurt       sp.ent  ...  \\\n",
       "count  2851.000000  2851.000000  2851.000000  2851.000000  2851.000000  ...   \n",
       "mean      0.224730     0.084381     3.118469    35.808329     0.895312  ...   \n",
       "std       0.023509     0.042728     4.163727   131.430900     0.044795  ...   \n",
       "min       0.042946     0.014558     0.141735     2.068455     0.738651  ...   \n",
       "25%       0.208756     0.042663     1.638410     5.604497     0.862190  ...   \n",
       "50%       0.225729     0.094235     2.183320     8.255809     0.901840  ...   \n",
       "75%       0.243700     0.114208     2.932962    13.649354     0.928727  ...   \n",
       "max       0.273469     0.252225    34.725453  1309.612887     0.981997  ...   \n",
       "\n",
       "              mode     centroid      meanfun       minfun       maxfun  \\\n",
       "count  2851.000000  2851.000000  2851.000000  2851.000000  2851.000000   \n",
       "mean      0.165481     0.180923     0.142891     0.036834     0.258968   \n",
       "std       0.076918     0.029796     0.032191     0.019182     0.029806   \n",
       "min       0.000000     0.039363     0.055565     0.009775     0.108696   \n",
       "25%       0.118100     0.163739     0.117578     0.018223     0.253968   \n",
       "50%       0.186667     0.184848     0.140678     0.046921     0.271186   \n",
       "75%       0.221341     0.199061     0.169593     0.047904     0.277457   \n",
       "max       0.280000     0.251124     0.237636     0.204082     0.279114   \n",
       "\n",
       "           meandom       mindom       maxdom      dfrange      modindx  \n",
       "count  2851.000000  2851.000000  2851.000000  2851.000000  2851.000000  \n",
       "mean      0.833608     0.052634     5.075745     5.023111     0.173933  \n",
       "std       0.525565     0.062982     3.526201     3.525193     0.119463  \n",
       "min       0.007812     0.004883     0.007812     0.000000     0.000000  \n",
       "25%       0.423799     0.007812     2.207031     2.183594     0.099591  \n",
       "50%       0.767578     0.023438     4.992188     4.968750     0.139159  \n",
       "75%       1.180411     0.070312     7.078125     7.042969     0.209525  \n",
       "max       2.957682     0.458984    21.867188    21.843750     0.932374  \n",
       "\n",
       "[8 rows x 21 columns]"
      ]
     },
     "execution_count": 5,
     "metadata": {},
     "output_type": "execute_result"
    }
   ],
   "source": [
    "data.describe()"
   ]
  },
  {
   "cell_type": "code",
   "execution_count": 6,
   "id": "bc3cbbd0",
   "metadata": {},
   "outputs": [
    {
     "data": {
      "text/plain": [
       "Id          0\n",
       "meanfreq    0\n",
       "sd          0\n",
       "median      0\n",
       "Q25         0\n",
       "Q75         0\n",
       "IQR         0\n",
       "skew        0\n",
       "kurt        0\n",
       "sp.ent      0\n",
       "sfm         0\n",
       "mode        0\n",
       "centroid    0\n",
       "meanfun     0\n",
       "minfun      0\n",
       "maxfun      0\n",
       "meandom     0\n",
       "mindom      0\n",
       "maxdom      0\n",
       "dfrange     0\n",
       "modindx     0\n",
       "label       0\n",
       "dtype: int64"
      ]
     },
     "execution_count": 6,
     "metadata": {},
     "output_type": "execute_result"
    }
   ],
   "source": [
    "data.isnull().sum()"
   ]
  },
  {
   "cell_type": "code",
   "execution_count": 7,
   "id": "2f859efb",
   "metadata": {},
   "outputs": [
    {
     "data": {
      "text/plain": [
       "<Axes: title={'center': 'meanfreq'}, xlabel='label'>"
      ]
     },
     "execution_count": 7,
     "metadata": {},
     "output_type": "execute_result"
    },
    {
     "data": {
      "image/png": "[encoded data removed]",
      "text/plain": [
       "<Figure size 640x480 with 1 Axes>"
      ]
     },
     "metadata": {},
     "output_type": "display_data"
    }
   ],
   "source": [
    "#Box plot see comparision in labels by other features\n",
    "data.boxplot(column= 'meanfreq', by='label', grid=False)"
   ]
  },
  {
   "cell_type": "code",
   "execution_count": 8,
   "id": "b288f5c6",
   "metadata": {},
   "outputs": [
    {
     "data": {
      "text/plain": [
       "<Axes: title={'center': 'sd'}, xlabel='label'>"
      ]
     },
     "execution_count": 8,
     "metadata": {},
     "output_type": "execute_result"
    },
    {
     "data": {
      "image/png": "[encoded data removed]",
      "text/plain": [
       "<Figure size 640x480 with 1 Axes>"
      ]
     },
     "metadata": {},
     "output_type": "display_data"
    }
   ],
   "source": [
    "data.boxplot(column= 'sd', by='label', grid=False)"
   ]
  },
  {
   "cell_type": "code",
   "execution_count": 9,
   "id": "59684158",
   "metadata": {},
   "outputs": [
    {
     "data": {
      "text/plain": [
       "<Axes: title={'center': 'median'}, xlabel='label'>"
      ]
     },
     "execution_count": 9,
     "metadata": {},
     "output_type": "execute_result"
    },
    {
     "data": {
      "image/png": "[encoded data removed]",
      "text/plain": [
       "<Figure size 640x480 with 1 Axes>"
      ]
     },
     "metadata": {},
     "output_type": "display_data"
    }
   ],
   "source": [
    "data.boxplot(column= 'median', by='label', grid=False)"
   ]
  },
  {
   "cell_type": "code",
   "execution_count": 10,
   "id": "6ec23504",
   "metadata": {},
   "outputs": [
    {
     "data": {
      "text/plain": [
       "1419"
      ]
     },
     "execution_count": 10,
     "metadata": {},
     "output_type": "execute_result"
    }
   ],
   "source": [
    "# check how many datas are of male and female\n",
    "data[data['label']=='male'].shape[0]"
   ]
  },
  {
   "cell_type": "code",
   "execution_count": 11,
   "id": "5725c0b6",
   "metadata": {},
   "outputs": [
    {
     "data": {
      "text/plain": [
       "1432"
      ]
     },
     "execution_count": 11,
     "metadata": {},
     "output_type": "execute_result"
    }
   ],
   "source": [
    "data[data['label']=='female'].shape[0]"
   ]
  },
  {
   "cell_type": "code",
   "execution_count": 12,
   "id": "6622b011",
   "metadata": {},
   "outputs": [
    {
     "name": "stderr",
     "output_type": "stream",
     "text": [
      "C:\\Users\\Hp\\AppData\\Local\\Temp\\ipykernel_17144\\1028033973.py:2: FutureWarning: The default value of numeric_only in DataFrame.mean is deprecated. In a future version, it will default to False. In addition, specifying 'numeric_only=None' is deprecated. Select only valid columns or specify the value of numeric_only to silence this warning.\n",
      "  a = data[data['label'] == 'male'].mean()\n"
     ]
    }
   ],
   "source": [
    "# for checking difference between mal and female\n",
    "a = data[data['label'] == 'male'].mean()"
   ]
  },
  {
   "cell_type": "code",
   "execution_count": 13,
   "id": "4a1f981e",
   "metadata": {},
   "outputs": [
    {
     "data": {
      "text/plain": [
       "Id          801.027484\n",
       "meanfreq      0.171199\n",
       "sd            0.064936\n",
       "median        0.175847\n",
       "Q25           0.115940\n",
       "Q75           0.226459\n",
       "IQR           0.110519\n",
       "skew          3.242669\n",
       "kurt         46.815928\n",
       "sp.ent        0.917107\n",
       "sfm           0.470128\n",
       "mode          0.152731\n",
       "centroid      0.171199\n",
       "meanfun       0.116017\n",
       "minfun        0.034423\n",
       "maxfun        0.254051\n",
       "meandom       0.735490\n",
       "mindom        0.040639\n",
       "maxdom        4.399844\n",
       "dfrange       4.359204\n",
       "modindx       0.177799\n",
       "dtype: float64"
      ]
     },
     "execution_count": 13,
     "metadata": {},
     "output_type": "execute_result"
    }
   ],
   "source": [
    "a"
   ]
  },
  {
   "cell_type": "code",
   "execution_count": 14,
   "id": "1c1ce190",
   "metadata": {},
   "outputs": [
    {
     "name": "stderr",
     "output_type": "stream",
     "text": [
      "C:\\Users\\Hp\\AppData\\Local\\Temp\\ipykernel_17144\\1896323955.py:1: FutureWarning: The default value of numeric_only in DataFrame.mean is deprecated. In a future version, it will default to False. In addition, specifying 'numeric_only=None' is deprecated. Select only valid columns or specify the value of numeric_only to silence this warning.\n",
      "  b = data[data['label'] == 'female'].mean()\n"
     ]
    }
   ],
   "source": [
    "b = data[data['label'] == 'female'].mean()"
   ]
  },
  {
   "cell_type": "code",
   "execution_count": 15,
   "id": "b107811a",
   "metadata": {},
   "outputs": [
    {
     "data": {
      "text/plain": [
       "Id          2374.926676\n",
       "meanfreq       0.190559\n",
       "sd             0.049421\n",
       "median         0.195507\n",
       "Q25            0.164535\n",
       "Q75            0.223017\n",
       "IQR            0.058481\n",
       "skew           2.995398\n",
       "kurt          24.900659\n",
       "sp.ent         0.873715\n",
       "sfm            0.347378\n",
       "mode           0.178114\n",
       "centroid       0.190559\n",
       "meanfun        0.169521\n",
       "minfun         0.039224\n",
       "maxfun         0.263840\n",
       "meandom        0.930835\n",
       "mindom         0.064520\n",
       "maxdom         5.745511\n",
       "dfrange        5.680991\n",
       "modindx        0.170103\n",
       "dtype: float64"
      ]
     },
     "execution_count": 15,
     "metadata": {},
     "output_type": "execute_result"
    }
   ],
   "source": [
    "b"
   ]
  },
  {
   "cell_type": "code",
   "execution_count": 16,
   "id": "54ac0401",
   "metadata": {},
   "outputs": [
    {
     "name": "stderr",
     "output_type": "stream",
     "text": [
      "C:\\Users\\Hp\\AppData\\Local\\Temp\\ipykernel_17144\\2957020716.py:2: FutureWarning: The default value of numeric_only in DataFrame.corr is deprecated. In a future version, it will default to False. Select only valid columns or specify the value of numeric_only to silence this warning.\n",
      "  correlation = data.corr()\n"
     ]
    },
    {
     "data": {
      "image/png": "[encoded data removed]",
      "text/plain": [
       "<Figure size 800x800 with 2 Axes>"
      ]
     },
     "metadata": {},
     "output_type": "display_data"
    }
   ],
   "source": [
    " # plot correlation matrix\n",
    "correlation = data.corr()\n",
    "f, ax = plt.subplots(figsize = (8,8))\n",
    "# Draw the heatmap using seaborn\n",
    "sns.heatmap(correlation, square = True)\n",
    "plt.show()"
   ]
  },
  {
   "cell_type": "code",
   "execution_count": 133,
   "id": "11818dbc",
   "metadata": {},
   "outputs": [
    {
     "data": {
      "text/plain": [
       "<bound method DataFrame.corr of         Id  meanfreq        sd    median       Q25       Q75       IQR  \\\n",
       "0      765  0.162337  0.058206  0.174065  0.100225  0.196512  0.096287   \n",
       "1     3071  0.161653  0.057435  0.170138  0.157522  0.182929  0.025407   \n",
       "2     1546  0.165290  0.061891  0.135071  0.118468  0.225176  0.106708   \n",
       "3      410  0.188100  0.055735  0.206028  0.130493  0.229470  0.098977   \n",
       "4     2689  0.187497  0.044226  0.190071  0.156800  0.215435  0.058635   \n",
       "...    ...       ...       ...       ...       ...       ...       ...   \n",
       "2846  3092  0.166738  0.052677  0.169427  0.162650  0.189223  0.026573   \n",
       "2847  1095  0.198718  0.058959  0.217333  0.143111  0.252000  0.108889   \n",
       "2848  1130  0.202333  0.063001  0.221946  0.137544  0.264817  0.127273   \n",
       "2849  1294  0.181799  0.058102  0.192037  0.123670  0.225568  0.101897   \n",
       "2850   860  0.167732  0.066225  0.171886  0.112598  0.225196  0.112598   \n",
       "\n",
       "          skew       kurt    sp.ent  ...  centroid   meanfun    minfun  \\\n",
       "0     2.127226   7.815129  0.921533  ...  0.162337  0.095852  0.016754   \n",
       "1     6.968850  60.968047  0.870409  ...  0.161653  0.163486  0.015601   \n",
       "2     2.631865  12.629116  0.918897  ...  0.165290  0.120050  0.035088   \n",
       "3     1.538406   5.145753  0.914325  ...  0.188100  0.108470  0.021305   \n",
       "4     1.653083   5.839465  0.907477  ...  0.187497  0.154529  0.048338   \n",
       "...        ...        ...       ...  ...       ...       ...       ...   \n",
       "2846  7.550412  76.134526  0.865282  ...  0.166738  0.152651  0.022727   \n",
       "2847  1.116666   3.569725  0.917123  ...  0.198718  0.139322  0.050473   \n",
       "2848  2.000371   6.681799  0.873847  ...  0.202333  0.123610  0.047291   \n",
       "2849  1.091660   4.009295  0.925575  ...  0.181799  0.110586  0.049741   \n",
       "2850  0.822981   3.103282  0.953210  ...  0.167732  0.126107  0.048096   \n",
       "\n",
       "        maxfun   meandom    mindom    maxdom   dfrange   modindx   label  \n",
       "0     0.235294  0.406033  0.046875  3.484375  3.437500  0.155348    male  \n",
       "1     0.204082  0.595161  0.170898  3.979492  3.808594  0.209073  female  \n",
       "2     0.222222  0.458577  0.087891  1.015625  0.927734  0.459834    male  \n",
       "3     0.145455  0.493229  0.125000  4.734375  4.609375  0.105202    male  \n",
       "4     0.279070  1.113502  0.023438  8.765625  8.742188  0.103095  female  \n",
       "...        ...       ...       ...       ...       ...       ...     ...  \n",
       "2846  0.208333  0.174154  0.161133  0.214844  0.053711  0.136364  female  \n",
       "2847  0.279070  0.792092  0.023438  4.968750  4.945312  0.155766    male  \n",
       "2848  0.269663  1.190168  0.023438  7.429688  7.406250  0.093438    male  \n",
       "2849  0.274286  0.789062  0.023438  4.359375  4.335938  0.062312    male  \n",
       "2850  0.279070  0.813616  0.023438  6.023438  6.000000  0.123384    male  \n",
       "\n",
       "[2851 rows x 22 columns]>"
      ]
     },
     "execution_count": 133,
     "metadata": {},
     "output_type": "execute_result"
    }
   ],
   "source": [
    "data.corr"
   ]
  },
  {
   "cell_type": "markdown",
   "id": "4b33e167",
   "metadata": {},
   "source": [
    "/// import pandas as pd\n",
    "\n",
    "def replace_outliers_with_iqr(df, group_column='label', threshold=1.5):\n",
    "    cleaned_df = df.copy()\n",
    "\n",
    "    # Encode the 'Gender' column to numerical values\n",
    "    cleaned_df['label'] = cleaned_df['label'].map({'male': 0, 'female': 1})\n",
    "\n",
    "    for group_value, group_data in cleaned_df.groupby(group_column):\n",
    "        for column in cleaned_df.columns:\n",
    "            data = group_data[column]\n",
    "            \n",
    "            # Calculate IQR for the group\n",
    "            q1 = data.quantile(0.25)\n",
    "            q3 = data.quantile(0.75)\n",
    "            iqr = q3 - q1\n",
    "            \n",
    "            # Define the upper and lower bounds for outliers\n",
    "            lower_bound = q1 - threshold * iqr\n",
    "            upper_bound = q3 + threshold * iqr\n",
    "            \n",
    "            # Replace outliers with values within the bounds\n",
    "            cleaned_df.loc[cleaned_df[group_column] == group_value, column] = \\\n",
    "                data.clip(lower=lower_bound, upper=upper_bound)\n",
    "\n",
    "    return cleaned_df\n",
    "\n",
    "\n",
    "# Specify the threshold value (adjust as needed)\n",
    "threshold_value = 1.5\n",
    "\n",
    "# Identify and replace outliers separately for each gender using IQR\n",
    "df_cleaned = replace_outliers_with_iqr(data, group_column='label', threshold=threshold_value)\n",
    "\n",
    "# Now, df_cleaned contains the data with outliers replaced by values within the IQR for each column within each gender\n",
    "\n",
    "\\\\\\\n"
   ]
  },
  {
   "cell_type": "code",
   "execution_count": 17,
   "id": "8eb9003d",
   "metadata": {},
   "outputs": [
    {
     "data": {
      "image/png": "[encoded data removed]",
      "text/plain": [
       "<Figure size 398x300 with 1 Axes>"
      ]
     },
     "metadata": {},
     "output_type": "display_data"
    }
   ],
   "source": [
    " \n",
    "#Distribution of male and female it's another way of box plot \n",
    "sns.FacetGrid(data, hue=\"label\") \\\n",
    "   .map(sns.kdeplot, \"meanfun\") \\\n",
    "   .add_legend()\n",
    "plt.show()"
   ]
  },
  {
   "cell_type": "code",
   "execution_count": 18,
   "id": "b4ae0919",
   "metadata": {},
   "outputs": [
    {
     "data": {
      "image/png": "[encoded data removed]",
      "text/plain": [
       "<Figure size 398x300 with 1 Axes>"
      ]
     },
     "metadata": {},
     "output_type": "display_data"
    }
   ],
   "source": [
    "#Distribution of male and female\n",
    "sns.FacetGrid(data, hue=\"label\") \\\n",
    "   .map(sns.kdeplot, \"meanfreq\") \\\n",
    "   .add_legend()\n",
    "plt.show()"
   ]
  },
  {
   "cell_type": "code",
   "execution_count": 19,
   "id": "78661754",
   "metadata": {},
   "outputs": [
    {
     "data": {
      "image/png": "[encoded data removed]",
      "text/plain": [
       "<Figure size 398x300 with 1 Axes>"
      ]
     },
     "metadata": {},
     "output_type": "display_data"
    }
   ],
   "source": [
    "sns.FacetGrid(data, hue=\"label\") \\\n",
    "   .map(sns.kdeplot, \"IQR\") \\\n",
    "   .add_legend()\n",
    "plt.show()"
   ]
  },
  {
   "cell_type": "code",
   "execution_count": 20,
   "id": "90426164",
   "metadata": {},
   "outputs": [],
   "source": [
    "from sklearn.model_selection import train_test_split\n",
    "from sklearn.ensemble import RandomForestClassifier,GradientBoostingClassifier\n",
    "from sklearn.tree import DecisionTreeClassifier\n",
    "from sklearn.model_selection import RandomizedSearchCV\n",
    "from sklearn.preprocessing import LabelEncoder\n",
    "from sklearn.metrics import classification_report, accuracy_score, confusion_matrix\n",
    "from sklearn.metrics import accuracy_score, precision_score, recall_score, f1_score\n",
    "from sklearn.preprocessing import StandardScaler\n",
    "import warnings\n",
    "warnings.filterwarnings(\"ignore\")"
   ]
  },
  {
   "cell_type": "markdown",
   "id": "00cc127c",
   "metadata": {},
   "source": [
    "# Data standardization"
   ]
  },
  {
   "cell_type": "code",
   "execution_count": 21,
   "id": "370a4a7f",
   "metadata": {},
   "outputs": [],
   "source": [
    "df=data.drop(['Id'], axis=1)"
   ]
  },
  {
   "cell_type": "markdown",
   "id": "c4faae9c",
   "metadata": {},
   "source": [
    "- Data Standardisation refers to data's mean = 0 and std(standered devision = 1) if data is not standered distribute then they may behave badly so it is importand to make data standered distributed for machine learning algorithms."
   ]
  },
  {
   "cell_type": "code",
   "execution_count": 22,
   "id": "87373838",
   "metadata": {},
   "outputs": [],
   "source": [
    "# convert srting data into numberic eg. male 1, female 0\n",
    "df1 = df.drop(['label'],axis = 1)\n",
    "X = df1.values\n",
    "y = data['label'].values\n",
    "\n",
    "# only one column has object type so we encode it\n",
    "\n",
    "encoder = LabelEncoder()\n",
    "y = encoder.fit_transform(y)"
   ]
  },
  {
   "cell_type": "code",
   "execution_count": 23,
   "id": "616cb6ee",
   "metadata": {},
   "outputs": [],
   "source": [
    "scaler = StandardScaler()\n",
    "scaler.fit(X)\n",
    "X = scaler.transform(X)"
   ]
  },
  {
   "cell_type": "code",
   "execution_count": 24,
   "id": "6b7b5b48",
   "metadata": {},
   "outputs": [],
   "source": [
    "X_train, X_test, y_train, y_test = train_test_split(X, y, test_size=0.2, random_state=1)"
   ]
  },
  {
   "cell_type": "code",
   "execution_count": 25,
   "id": "fdf26bfd",
   "metadata": {},
   "outputs": [
    {
     "name": "stdout",
     "output_type": "stream",
     "text": [
      "(2280, 20)\n",
      "(571, 20)\n",
      "(2280,)\n",
      "(571,)\n"
     ]
    }
   ],
   "source": [
    "print(X_train.shape)\n",
    "print(X_test.shape)\n",
    "print(y_train.shape)\n",
    "print(y_test.shape)"
   ]
  },
  {
   "cell_type": "code",
   "execution_count": 26,
   "id": "29dfaeb7",
   "metadata": {},
   "outputs": [],
   "source": [
    "# Since data has outliers, we will select models that can handle outliers such as decision tree, random forest, SVM, KNN etc."
   ]
  },
  {
   "cell_type": "code",
   "execution_count": 27,
   "id": "59ae319a",
   "metadata": {},
   "outputs": [
    {
     "data": {
      "text/html": [
       "<style>#sk-container-id-1 {color: black;background-color: white;}#sk-container-id-1 pre{padding: 0;}#sk-container-id-1 div.sk-toggleable {background-color: white;}#sk-container-id-1 label.sk-toggleable__label {cursor: pointer;display: block;width: 100%;margin-bottom: 0;padding: 0.3em;box-sizing: border-box;text-align: center;}#sk-container-id-1 label.sk-toggleable__label-arrow:before {content: \"▸\";float: left;margin-right: 0.25em;color: #696969;}#sk-container-id-1 label.sk-toggleable__label-arrow:hover:before {color: black;}#sk-container-id-1 div.sk-estimator:hover label.sk-toggleable__label-arrow:before {color: black;}#sk-container-id-1 div.sk-toggleable__content {max-height: 0;max-width: 0;overflow: hidden;text-align: left;background-color: #f0f8ff;}#sk-container-id-1 div.sk-toggleable__content pre {margin: 0.2em;color: black;border-radius: 0.25em;background-color: #f0f8ff;}#sk-container-id-1 input.sk-toggleable__control:checked~div.sk-toggleable__content {max-height: 200px;max-width: 100%;overflow: auto;}#sk-container-id-1 input.sk-toggleable__control:checked~label.sk-toggleable__label-arrow:before {content: \"▾\";}#sk-container-id-1 div.sk-estimator input.sk-toggleable__control:checked~label.sk-toggleable__label {background-color: #d4ebff;}#sk-container-id-1 div.sk-label input.sk-toggleable__control:checked~label.sk-toggleable__label {background-color: #d4ebff;}#sk-container-id-1 input.sk-hidden--visually {border: 0;clip: rect(1px 1px 1px 1px);clip: rect(1px, 1px, 1px, 1px);height: 1px;margin: -1px;overflow: hidden;padding: 0;position: absolute;width: 1px;}#sk-container-id-1 div.sk-estimator {font-family: monospace;background-color: #f0f8ff;border: 1px dotted black;border-radius: 0.25em;box-sizing: border-box;margin-bottom: 0.5em;}#sk-container-id-1 div.sk-estimator:hover {background-color: #d4ebff;}#sk-container-id-1 div.sk-parallel-item::after {content: \"\";width: 100%;border-bottom: 1px solid gray;flex-grow: 1;}#sk-container-id-1 div.sk-label:hover label.sk-toggleable__label {background-color: #d4ebff;}#sk-container-id-1 div.sk-serial::before {content: \"\";position: absolute;border-left: 1px solid gray;box-sizing: border-box;top: 0;bottom: 0;left: 50%;z-index: 0;}#sk-container-id-1 div.sk-serial {display: flex;flex-direction: column;align-items: center;background-color: white;padding-right: 0.2em;padding-left: 0.2em;position: relative;}#sk-container-id-1 div.sk-item {position: relative;z-index: 1;}#sk-container-id-1 div.sk-parallel {display: flex;align-items: stretch;justify-content: center;background-color: white;position: relative;}#sk-container-id-1 div.sk-item::before, #sk-container-id-1 div.sk-parallel-item::before {content: \"\";position: absolute;border-left: 1px solid gray;box-sizing: border-box;top: 0;bottom: 0;left: 50%;z-index: -1;}#sk-container-id-1 div.sk-parallel-item {display: flex;flex-direction: column;z-index: 1;position: relative;background-color: white;}#sk-container-id-1 div.sk-parallel-item:first-child::after {align-self: flex-end;width: 50%;}#sk-container-id-1 div.sk-parallel-item:last-child::after {align-self: flex-start;width: 50%;}#sk-container-id-1 div.sk-parallel-item:only-child::after {width: 0;}#sk-container-id-1 div.sk-dashed-wrapped {border: 1px dashed gray;margin: 0 0.4em 0.5em 0.4em;box-sizing: border-box;padding-bottom: 0.4em;background-color: white;}#sk-container-id-1 div.sk-label label {font-family: monospace;font-weight: bold;display: inline-block;line-height: 1.2em;}#sk-container-id-1 div.sk-label-container {text-align: center;}#sk-container-id-1 div.sk-container {/* jupyter's `normalize.less` sets `[hidden] { display: none; }` but bootstrap.min.css set `[hidden] { display: none !important; }` so we also need the `!important` here to be able to override the default hidden behavior on the sphinx rendered scikit-learn.org. See: https://github.com/scikit-learn/scikit-learn/issues/21755 */display: inline-block !important;position: relative;}#sk-container-id-1 div.sk-text-repr-fallback {display: none;}</style><div id=\"sk-container-id-1\" class=\"sk-top-container\"><div class=\"sk-text-repr-fallback\"><pre>SVC()</pre><b>In a Jupyter environment, please rerun this cell to show the HTML representation or trust the notebook. <br />On GitHub, the HTML representation is unable to render, please try loading this page with nbviewer.org.</b></div><div class=\"sk-container\" hidden><div class=\"sk-item\"><div class=\"sk-estimator sk-toggleable\"><input class=\"sk-toggleable__control sk-hidden--visually\" id=\"sk-estimator-id-1\" type=\"checkbox\" checked><label for=\"sk-estimator-id-1\" class=\"sk-toggleable__label sk-toggleable__label-arrow\">SVC</label><div class=\"sk-toggleable__content\"><pre>SVC()</pre></div></div></div></div></div>"
      ],
      "text/plain": [
       "SVC()"
      ]
     },
     "execution_count": 27,
     "metadata": {},
     "output_type": "execute_result"
    }
   ],
   "source": [
    "from sklearn.svm import SVC\n",
    "from sklearn import metrics\n",
    "svc=SVC() #Default hyperparameters\n",
    "svc.fit(X_train,y_train)"
   ]
  },
  {
   "cell_type": "code",
   "execution_count": 28,
   "id": "33ad3c5c",
   "metadata": {},
   "outputs": [],
   "source": [
    "def model_eval(actual, predicted):\n",
    "    acc_score= accuracy_score(actual, predicted)\n",
    "    conf_matrix=confusion_matrix(actual, predicted)\n",
    "    clas_rep=classification_report(actual,predicted)\n",
    "    print('model accuracy is:', acc_score)\n",
    "    print(conf_matrix)\n",
    "    print(clas_rep)"
   ]
  },
  {
   "cell_type": "code",
   "execution_count": 29,
   "id": "9519de5f",
   "metadata": {},
   "outputs": [],
   "source": [
    "#predicting on train data\n",
    "y_pred_train = svc.predict(X_train)\n",
    "\n",
    "#predicting on test data\n",
    "y_pred_test = svc.predict(X_test)"
   ]
  },
  {
   "cell_type": "code",
   "execution_count": 30,
   "id": "a4dbbc37",
   "metadata": {},
   "outputs": [
    {
     "name": "stdout",
     "output_type": "stream",
     "text": [
      "model accuracy is: 0.9855263157894737\n",
      "[[1127   13]\n",
      " [  20 1120]]\n",
      "              precision    recall  f1-score   support\n",
      "\n",
      "           0       0.98      0.99      0.99      1140\n",
      "           1       0.99      0.98      0.99      1140\n",
      "\n",
      "    accuracy                           0.99      2280\n",
      "   macro avg       0.99      0.99      0.99      2280\n",
      "weighted avg       0.99      0.99      0.99      2280\n",
      "\n"
     ]
    }
   ],
   "source": [
    "model_eval(y_train, y_pred_train)"
   ]
  },
  {
   "cell_type": "code",
   "execution_count": 31,
   "id": "12f62679",
   "metadata": {},
   "outputs": [
    {
     "name": "stdout",
     "output_type": "stream",
     "text": [
      "model accuracy is: 0.9859894921190894\n",
      "[[289   3]\n",
      " [  5 274]]\n",
      "              precision    recall  f1-score   support\n",
      "\n",
      "           0       0.98      0.99      0.99       292\n",
      "           1       0.99      0.98      0.99       279\n",
      "\n",
      "    accuracy                           0.99       571\n",
      "   macro avg       0.99      0.99      0.99       571\n",
      "weighted avg       0.99      0.99      0.99       571\n",
      "\n"
     ]
    }
   ],
   "source": [
    "model_eval(y_test, y_pred_test)"
   ]
  },
  {
   "cell_type": "code",
   "execution_count": 32,
   "id": "be115f2b",
   "metadata": {},
   "outputs": [
    {
     "data": {
      "text/html": [
       "<style>#sk-container-id-2 {color: black;background-color: white;}#sk-container-id-2 pre{padding: 0;}#sk-container-id-2 div.sk-toggleable {background-color: white;}#sk-container-id-2 label.sk-toggleable__label {cursor: pointer;display: block;width: 100%;margin-bottom: 0;padding: 0.3em;box-sizing: border-box;text-align: center;}#sk-container-id-2 label.sk-toggleable__label-arrow:before {content: \"▸\";float: left;margin-right: 0.25em;color: #696969;}#sk-container-id-2 label.sk-toggleable__label-arrow:hover:before {color: black;}#sk-container-id-2 div.sk-estimator:hover label.sk-toggleable__label-arrow:before {color: black;}#sk-container-id-2 div.sk-toggleable__content {max-height: 0;max-width: 0;overflow: hidden;text-align: left;background-color: #f0f8ff;}#sk-container-id-2 div.sk-toggleable__content pre {margin: 0.2em;color: black;border-radius: 0.25em;background-color: #f0f8ff;}#sk-container-id-2 input.sk-toggleable__control:checked~div.sk-toggleable__content {max-height: 200px;max-width: 100%;overflow: auto;}#sk-container-id-2 input.sk-toggleable__control:checked~label.sk-toggleable__label-arrow:before {content: \"▾\";}#sk-container-id-2 div.sk-estimator input.sk-toggleable__control:checked~label.sk-toggleable__label {background-color: #d4ebff;}#sk-container-id-2 div.sk-label input.sk-toggleable__control:checked~label.sk-toggleable__label {background-color: #d4ebff;}#sk-container-id-2 input.sk-hidden--visually {border: 0;clip: rect(1px 1px 1px 1px);clip: rect(1px, 1px, 1px, 1px);height: 1px;margin: -1px;overflow: hidden;padding: 0;position: absolute;width: 1px;}#sk-container-id-2 div.sk-estimator {font-family: monospace;background-color: #f0f8ff;border: 1px dotted black;border-radius: 0.25em;box-sizing: border-box;margin-bottom: 0.5em;}#sk-container-id-2 div.sk-estimator:hover {background-color: #d4ebff;}#sk-container-id-2 div.sk-parallel-item::after {content: \"\";width: 100%;border-bottom: 1px solid gray;flex-grow: 1;}#sk-container-id-2 div.sk-label:hover label.sk-toggleable__label {background-color: #d4ebff;}#sk-container-id-2 div.sk-serial::before {content: \"\";position: absolute;border-left: 1px solid gray;box-sizing: border-box;top: 0;bottom: 0;left: 50%;z-index: 0;}#sk-container-id-2 div.sk-serial {display: flex;flex-direction: column;align-items: center;background-color: white;padding-right: 0.2em;padding-left: 0.2em;position: relative;}#sk-container-id-2 div.sk-item {position: relative;z-index: 1;}#sk-container-id-2 div.sk-parallel {display: flex;align-items: stretch;justify-content: center;background-color: white;position: relative;}#sk-container-id-2 div.sk-item::before, #sk-container-id-2 div.sk-parallel-item::before {content: \"\";position: absolute;border-left: 1px solid gray;box-sizing: border-box;top: 0;bottom: 0;left: 50%;z-index: -1;}#sk-container-id-2 div.sk-parallel-item {display: flex;flex-direction: column;z-index: 1;position: relative;background-color: white;}#sk-container-id-2 div.sk-parallel-item:first-child::after {align-self: flex-end;width: 50%;}#sk-container-id-2 div.sk-parallel-item:last-child::after {align-self: flex-start;width: 50%;}#sk-container-id-2 div.sk-parallel-item:only-child::after {width: 0;}#sk-container-id-2 div.sk-dashed-wrapped {border: 1px dashed gray;margin: 0 0.4em 0.5em 0.4em;box-sizing: border-box;padding-bottom: 0.4em;background-color: white;}#sk-container-id-2 div.sk-label label {font-family: monospace;font-weight: bold;display: inline-block;line-height: 1.2em;}#sk-container-id-2 div.sk-label-container {text-align: center;}#sk-container-id-2 div.sk-container {/* jupyter's `normalize.less` sets `[hidden] { display: none; }` but bootstrap.min.css set `[hidden] { display: none !important; }` so we also need the `!important` here to be able to override the default hidden behavior on the sphinx rendered scikit-learn.org. See: https://github.com/scikit-learn/scikit-learn/issues/21755 */display: inline-block !important;position: relative;}#sk-container-id-2 div.sk-text-repr-fallback {display: none;}</style><div id=\"sk-container-id-2\" class=\"sk-top-container\"><div class=\"sk-text-repr-fallback\"><pre>KNeighborsClassifier()</pre><b>In a Jupyter environment, please rerun this cell to show the HTML representation or trust the notebook. <br />On GitHub, the HTML representation is unable to render, please try loading this page with nbviewer.org.</b></div><div class=\"sk-container\" hidden><div class=\"sk-item\"><div class=\"sk-estimator sk-toggleable\"><input class=\"sk-toggleable__control sk-hidden--visually\" id=\"sk-estimator-id-2\" type=\"checkbox\" checked><label for=\"sk-estimator-id-2\" class=\"sk-toggleable__label sk-toggleable__label-arrow\">KNeighborsClassifier</label><div class=\"sk-toggleable__content\"><pre>KNeighborsClassifier()</pre></div></div></div></div></div>"
      ],
      "text/plain": [
       "KNeighborsClassifier()"
      ]
     },
     "execution_count": 32,
     "metadata": {},
     "output_type": "execute_result"
    }
   ],
   "source": [
    "from sklearn.neighbors import KNeighborsClassifier\n",
    "clf = KNeighborsClassifier()\n",
    "clf.fit(X_train, y_train)"
   ]
  },
  {
   "cell_type": "code",
   "execution_count": 33,
   "id": "e23e8853",
   "metadata": {},
   "outputs": [],
   "source": [
    "#predicting on train data\n",
    "y_pred_train_knn = clf.predict(X_train)\n",
    "\n",
    "#predicting on test data\n",
    "y_pred_test_knn = clf.predict(X_test)"
   ]
  },
  {
   "cell_type": "code",
   "execution_count": 34,
   "id": "883e7af1",
   "metadata": {},
   "outputs": [
    {
     "name": "stdout",
     "output_type": "stream",
     "text": [
      "model accuracy is: 0.9802631578947368\n",
      "[[1114   26]\n",
      " [  19 1121]]\n",
      "              precision    recall  f1-score   support\n",
      "\n",
      "           0       0.98      0.98      0.98      1140\n",
      "           1       0.98      0.98      0.98      1140\n",
      "\n",
      "    accuracy                           0.98      2280\n",
      "   macro avg       0.98      0.98      0.98      2280\n",
      "weighted avg       0.98      0.98      0.98      2280\n",
      "\n"
     ]
    }
   ],
   "source": [
    "model_eval(y_train, y_pred_train_knn)"
   ]
  },
  {
   "cell_type": "code",
   "execution_count": 35,
   "id": "d3495dd8",
   "metadata": {},
   "outputs": [
    {
     "name": "stdout",
     "output_type": "stream",
     "text": [
      "model accuracy is: 0.9807355516637478\n",
      "[[285   7]\n",
      " [  4 275]]\n",
      "              precision    recall  f1-score   support\n",
      "\n",
      "           0       0.99      0.98      0.98       292\n",
      "           1       0.98      0.99      0.98       279\n",
      "\n",
      "    accuracy                           0.98       571\n",
      "   macro avg       0.98      0.98      0.98       571\n",
      "weighted avg       0.98      0.98      0.98       571\n",
      "\n"
     ]
    }
   ],
   "source": [
    "model_eval(y_test, y_pred_test_knn)"
   ]
  },
  {
   "cell_type": "code",
   "execution_count": 36,
   "id": "1406ae56",
   "metadata": {},
   "outputs": [
    {
     "data": {
      "text/html": [
       "<style>#sk-container-id-3 {color: black;background-color: white;}#sk-container-id-3 pre{padding: 0;}#sk-container-id-3 div.sk-toggleable {background-color: white;}#sk-container-id-3 label.sk-toggleable__label {cursor: pointer;display: block;width: 100%;margin-bottom: 0;padding: 0.3em;box-sizing: border-box;text-align: center;}#sk-container-id-3 label.sk-toggleable__label-arrow:before {content: \"▸\";float: left;margin-right: 0.25em;color: #696969;}#sk-container-id-3 label.sk-toggleable__label-arrow:hover:before {color: black;}#sk-container-id-3 div.sk-estimator:hover label.sk-toggleable__label-arrow:before {color: black;}#sk-container-id-3 div.sk-toggleable__content {max-height: 0;max-width: 0;overflow: hidden;text-align: left;background-color: #f0f8ff;}#sk-container-id-3 div.sk-toggleable__content pre {margin: 0.2em;color: black;border-radius: 0.25em;background-color: #f0f8ff;}#sk-container-id-3 input.sk-toggleable__control:checked~div.sk-toggleable__content {max-height: 200px;max-width: 100%;overflow: auto;}#sk-container-id-3 input.sk-toggleable__control:checked~label.sk-toggleable__label-arrow:before {content: \"▾\";}#sk-container-id-3 div.sk-estimator input.sk-toggleable__control:checked~label.sk-toggleable__label {background-color: #d4ebff;}#sk-container-id-3 div.sk-label input.sk-toggleable__control:checked~label.sk-toggleable__label {background-color: #d4ebff;}#sk-container-id-3 input.sk-hidden--visually {border: 0;clip: rect(1px 1px 1px 1px);clip: rect(1px, 1px, 1px, 1px);height: 1px;margin: -1px;overflow: hidden;padding: 0;position: absolute;width: 1px;}#sk-container-id-3 div.sk-estimator {font-family: monospace;background-color: #f0f8ff;border: 1px dotted black;border-radius: 0.25em;box-sizing: border-box;margin-bottom: 0.5em;}#sk-container-id-3 div.sk-estimator:hover {background-color: #d4ebff;}#sk-container-id-3 div.sk-parallel-item::after {content: \"\";width: 100%;border-bottom: 1px solid gray;flex-grow: 1;}#sk-container-id-3 div.sk-label:hover label.sk-toggleable__label {background-color: #d4ebff;}#sk-container-id-3 div.sk-serial::before {content: \"\";position: absolute;border-left: 1px solid gray;box-sizing: border-box;top: 0;bottom: 0;left: 50%;z-index: 0;}#sk-container-id-3 div.sk-serial {display: flex;flex-direction: column;align-items: center;background-color: white;padding-right: 0.2em;padding-left: 0.2em;position: relative;}#sk-container-id-3 div.sk-item {position: relative;z-index: 1;}#sk-container-id-3 div.sk-parallel {display: flex;align-items: stretch;justify-content: center;background-color: white;position: relative;}#sk-container-id-3 div.sk-item::before, #sk-container-id-3 div.sk-parallel-item::before {content: \"\";position: absolute;border-left: 1px solid gray;box-sizing: border-box;top: 0;bottom: 0;left: 50%;z-index: -1;}#sk-container-id-3 div.sk-parallel-item {display: flex;flex-direction: column;z-index: 1;position: relative;background-color: white;}#sk-container-id-3 div.sk-parallel-item:first-child::after {align-self: flex-end;width: 50%;}#sk-container-id-3 div.sk-parallel-item:last-child::after {align-self: flex-start;width: 50%;}#sk-container-id-3 div.sk-parallel-item:only-child::after {width: 0;}#sk-container-id-3 div.sk-dashed-wrapped {border: 1px dashed gray;margin: 0 0.4em 0.5em 0.4em;box-sizing: border-box;padding-bottom: 0.4em;background-color: white;}#sk-container-id-3 div.sk-label label {font-family: monospace;font-weight: bold;display: inline-block;line-height: 1.2em;}#sk-container-id-3 div.sk-label-container {text-align: center;}#sk-container-id-3 div.sk-container {/* jupyter's `normalize.less` sets `[hidden] { display: none; }` but bootstrap.min.css set `[hidden] { display: none !important; }` so we also need the `!important` here to be able to override the default hidden behavior on the sphinx rendered scikit-learn.org. See: https://github.com/scikit-learn/scikit-learn/issues/21755 */display: inline-block !important;position: relative;}#sk-container-id-3 div.sk-text-repr-fallback {display: none;}</style><div id=\"sk-container-id-3\" class=\"sk-top-container\"><div class=\"sk-text-repr-fallback\"><pre>RandomForestClassifier()</pre><b>In a Jupyter environment, please rerun this cell to show the HTML representation or trust the notebook. <br />On GitHub, the HTML representation is unable to render, please try loading this page with nbviewer.org.</b></div><div class=\"sk-container\" hidden><div class=\"sk-item\"><div class=\"sk-estimator sk-toggleable\"><input class=\"sk-toggleable__control sk-hidden--visually\" id=\"sk-estimator-id-3\" type=\"checkbox\" checked><label for=\"sk-estimator-id-3\" class=\"sk-toggleable__label sk-toggleable__label-arrow\">RandomForestClassifier</label><div class=\"sk-toggleable__content\"><pre>RandomForestClassifier()</pre></div></div></div></div></div>"
      ],
      "text/plain": [
       "RandomForestClassifier()"
      ]
     },
     "execution_count": 36,
     "metadata": {},
     "output_type": "execute_result"
    }
   ],
   "source": [
    "rfc = RandomForestClassifier()\n",
    "rfc.fit(X_train, y_train)"
   ]
  },
  {
   "cell_type": "code",
   "execution_count": 37,
   "id": "a450d21a",
   "metadata": {},
   "outputs": [],
   "source": [
    "#predicting on train data\n",
    "y_pred_train_rfc = clf.predict(X_train)\n",
    "\n",
    "#predicting on test data\n",
    "y_pred_test_rfc = clf.predict(X_test)"
   ]
  },
  {
   "cell_type": "code",
   "execution_count": 38,
   "id": "9d567861",
   "metadata": {},
   "outputs": [
    {
     "name": "stdout",
     "output_type": "stream",
     "text": [
      "model accuracy is: 0.9802631578947368\n",
      "[[1114   26]\n",
      " [  19 1121]]\n",
      "              precision    recall  f1-score   support\n",
      "\n",
      "           0       0.98      0.98      0.98      1140\n",
      "           1       0.98      0.98      0.98      1140\n",
      "\n",
      "    accuracy                           0.98      2280\n",
      "   macro avg       0.98      0.98      0.98      2280\n",
      "weighted avg       0.98      0.98      0.98      2280\n",
      "\n"
     ]
    }
   ],
   "source": [
    "model_eval(y_train, y_pred_train_rfc)"
   ]
  },
  {
   "cell_type": "code",
   "execution_count": 39,
   "id": "e7295694",
   "metadata": {},
   "outputs": [
    {
     "name": "stdout",
     "output_type": "stream",
     "text": [
      "model accuracy is: 0.9807355516637478\n",
      "[[285   7]\n",
      " [  4 275]]\n",
      "              precision    recall  f1-score   support\n",
      "\n",
      "           0       0.99      0.98      0.98       292\n",
      "           1       0.98      0.99      0.98       279\n",
      "\n",
      "    accuracy                           0.98       571\n",
      "   macro avg       0.98      0.98      0.98       571\n",
      "weighted avg       0.98      0.98      0.98       571\n",
      "\n"
     ]
    }
   ],
   "source": [
    "model_eval(y_test, y_pred_test_rfc)"
   ]
  },
  {
   "cell_type": "code",
   "execution_count": 40,
   "id": "98d381c3",
   "metadata": {},
   "outputs": [
    {
     "data": {
      "text/html": [
       "<style>#sk-container-id-4 {color: black;background-color: white;}#sk-container-id-4 pre{padding: 0;}#sk-container-id-4 div.sk-toggleable {background-color: white;}#sk-container-id-4 label.sk-toggleable__label {cursor: pointer;display: block;width: 100%;margin-bottom: 0;padding: 0.3em;box-sizing: border-box;text-align: center;}#sk-container-id-4 label.sk-toggleable__label-arrow:before {content: \"▸\";float: left;margin-right: 0.25em;color: #696969;}#sk-container-id-4 label.sk-toggleable__label-arrow:hover:before {color: black;}#sk-container-id-4 div.sk-estimator:hover label.sk-toggleable__label-arrow:before {color: black;}#sk-container-id-4 div.sk-toggleable__content {max-height: 0;max-width: 0;overflow: hidden;text-align: left;background-color: #f0f8ff;}#sk-container-id-4 div.sk-toggleable__content pre {margin: 0.2em;color: black;border-radius: 0.25em;background-color: #f0f8ff;}#sk-container-id-4 input.sk-toggleable__control:checked~div.sk-toggleable__content {max-height: 200px;max-width: 100%;overflow: auto;}#sk-container-id-4 input.sk-toggleable__control:checked~label.sk-toggleable__label-arrow:before {content: \"▾\";}#sk-container-id-4 div.sk-estimator input.sk-toggleable__control:checked~label.sk-toggleable__label {background-color: #d4ebff;}#sk-container-id-4 div.sk-label input.sk-toggleable__control:checked~label.sk-toggleable__label {background-color: #d4ebff;}#sk-container-id-4 input.sk-hidden--visually {border: 0;clip: rect(1px 1px 1px 1px);clip: rect(1px, 1px, 1px, 1px);height: 1px;margin: -1px;overflow: hidden;padding: 0;position: absolute;width: 1px;}#sk-container-id-4 div.sk-estimator {font-family: monospace;background-color: #f0f8ff;border: 1px dotted black;border-radius: 0.25em;box-sizing: border-box;margin-bottom: 0.5em;}#sk-container-id-4 div.sk-estimator:hover {background-color: #d4ebff;}#sk-container-id-4 div.sk-parallel-item::after {content: \"\";width: 100%;border-bottom: 1px solid gray;flex-grow: 1;}#sk-container-id-4 div.sk-label:hover label.sk-toggleable__label {background-color: #d4ebff;}#sk-container-id-4 div.sk-serial::before {content: \"\";position: absolute;border-left: 1px solid gray;box-sizing: border-box;top: 0;bottom: 0;left: 50%;z-index: 0;}#sk-container-id-4 div.sk-serial {display: flex;flex-direction: column;align-items: center;background-color: white;padding-right: 0.2em;padding-left: 0.2em;position: relative;}#sk-container-id-4 div.sk-item {position: relative;z-index: 1;}#sk-container-id-4 div.sk-parallel {display: flex;align-items: stretch;justify-content: center;background-color: white;position: relative;}#sk-container-id-4 div.sk-item::before, #sk-container-id-4 div.sk-parallel-item::before {content: \"\";position: absolute;border-left: 1px solid gray;box-sizing: border-box;top: 0;bottom: 0;left: 50%;z-index: -1;}#sk-container-id-4 div.sk-parallel-item {display: flex;flex-direction: column;z-index: 1;position: relative;background-color: white;}#sk-container-id-4 div.sk-parallel-item:first-child::after {align-self: flex-end;width: 50%;}#sk-container-id-4 div.sk-parallel-item:last-child::after {align-self: flex-start;width: 50%;}#sk-container-id-4 div.sk-parallel-item:only-child::after {width: 0;}#sk-container-id-4 div.sk-dashed-wrapped {border: 1px dashed gray;margin: 0 0.4em 0.5em 0.4em;box-sizing: border-box;padding-bottom: 0.4em;background-color: white;}#sk-container-id-4 div.sk-label label {font-family: monospace;font-weight: bold;display: inline-block;line-height: 1.2em;}#sk-container-id-4 div.sk-label-container {text-align: center;}#sk-container-id-4 div.sk-container {/* jupyter's `normalize.less` sets `[hidden] { display: none; }` but bootstrap.min.css set `[hidden] { display: none !important; }` so we also need the `!important` here to be able to override the default hidden behavior on the sphinx rendered scikit-learn.org. See: https://github.com/scikit-learn/scikit-learn/issues/21755 */display: inline-block !important;position: relative;}#sk-container-id-4 div.sk-text-repr-fallback {display: none;}</style><div id=\"sk-container-id-4\" class=\"sk-top-container\"><div class=\"sk-text-repr-fallback\"><pre>GradientBoostingClassifier()</pre><b>In a Jupyter environment, please rerun this cell to show the HTML representation or trust the notebook. <br />On GitHub, the HTML representation is unable to render, please try loading this page with nbviewer.org.</b></div><div class=\"sk-container\" hidden><div class=\"sk-item\"><div class=\"sk-estimator sk-toggleable\"><input class=\"sk-toggleable__control sk-hidden--visually\" id=\"sk-estimator-id-4\" type=\"checkbox\" checked><label for=\"sk-estimator-id-4\" class=\"sk-toggleable__label sk-toggleable__label-arrow\">GradientBoostingClassifier</label><div class=\"sk-toggleable__content\"><pre>GradientBoostingClassifier()</pre></div></div></div></div></div>"
      ],
      "text/plain": [
       "GradientBoostingClassifier()"
      ]
     },
     "execution_count": 40,
     "metadata": {},
     "output_type": "execute_result"
    }
   ],
   "source": [
    "gb=GradientBoostingClassifier() #Default hyperparameters\n",
    "gb.fit(X_train,y_train)"
   ]
  },
  {
   "cell_type": "code",
   "execution_count": 41,
   "id": "b1b0bcb9",
   "metadata": {},
   "outputs": [],
   "source": [
    "#predicting on train data\n",
    "y_pred_train_gb = gb.predict(X_train)\n",
    "\n",
    "#predicting on test data\n",
    "y_pred_test_gb = gb.predict(X_test)"
   ]
  },
  {
   "cell_type": "code",
   "execution_count": 42,
   "id": "1270de2c",
   "metadata": {},
   "outputs": [
    {
     "name": "stdout",
     "output_type": "stream",
     "text": [
      "model accuracy is: 0.9986842105263158\n",
      "[[1139    1]\n",
      " [   2 1138]]\n",
      "              precision    recall  f1-score   support\n",
      "\n",
      "           0       1.00      1.00      1.00      1140\n",
      "           1       1.00      1.00      1.00      1140\n",
      "\n",
      "    accuracy                           1.00      2280\n",
      "   macro avg       1.00      1.00      1.00      2280\n",
      "weighted avg       1.00      1.00      1.00      2280\n",
      "\n"
     ]
    }
   ],
   "source": [
    "model_eval(y_train, y_pred_train_gb)"
   ]
  },
  {
   "cell_type": "code",
   "execution_count": 43,
   "id": "b7000e19",
   "metadata": {},
   "outputs": [
    {
     "name": "stdout",
     "output_type": "stream",
     "text": [
      "model accuracy is: 0.9842381786339754\n",
      "[[288   4]\n",
      " [  5 274]]\n",
      "              precision    recall  f1-score   support\n",
      "\n",
      "           0       0.98      0.99      0.98       292\n",
      "           1       0.99      0.98      0.98       279\n",
      "\n",
      "    accuracy                           0.98       571\n",
      "   macro avg       0.98      0.98      0.98       571\n",
      "weighted avg       0.98      0.98      0.98       571\n",
      "\n"
     ]
    }
   ],
   "source": [
    "model_eval(y_test, y_pred_test_gb)"
   ]
  },
  {
   "cell_type": "markdown",
   "id": "d1c96c2d",
   "metadata": {},
   "source": [
    "# Feature selection"
   ]
  },
  {
   "cell_type": "code",
   "execution_count": 44,
   "id": "844947ec",
   "metadata": {},
   "outputs": [
    {
     "data": {
      "image/png": "[encoded data removed]",
      "text/plain": [
       "<Figure size 3000x1500 with 1 Axes>"
      ]
     },
     "metadata": {},
     "output_type": "display_data"
    }
   ],
   "source": [
    "features = X_train.shape[1]\n",
    "importances = rfc.feature_importances_\n",
    "indices = np.argsort(importances)\n",
    "plt.figure(figsize=[30, 15])\n",
    "plt.barh(y=range(features), width=importances[indices], align='center')\n",
    "plt.yticks(np.arange(features), list(df1))\n",
    "plt.show()"
   ]
  },
  {
   "cell_type": "code",
   "execution_count": 45,
   "id": "fd18b308",
   "metadata": {},
   "outputs": [],
   "source": [
    "distributions = dict(C=[0.1, 1, 10, 100, 1000],  \n",
    "              gamma= [1, 0.1, 0.01, 0.001, 0.0001], \n",
    "              kernel= ['rbf'])"
   ]
  },
  {
   "cell_type": "code",
   "execution_count": 46,
   "id": "651e2bf1",
   "metadata": {},
   "outputs": [],
   "source": [
    "clf=RandomizedSearchCV(svc, distributions, random_state=1, verbose=2)"
   ]
  },
  {
   "cell_type": "code",
   "execution_count": 47,
   "id": "92b543fd",
   "metadata": {},
   "outputs": [
    {
     "name": "stdout",
     "output_type": "stream",
     "text": [
      "Fitting 5 folds for each of 10 candidates, totalling 50 fits\n",
      "[CV] END .....................C=10, gamma=0.0001, kernel=rbf; total time=   0.4s\n",
      "[CV] END .....................C=10, gamma=0.0001, kernel=rbf; total time=   0.4s\n",
      "[CV] END .....................C=10, gamma=0.0001, kernel=rbf; total time=   0.2s\n",
      "[CV] END .....................C=10, gamma=0.0001, kernel=rbf; total time=   0.3s\n",
      "[CV] END .....................C=10, gamma=0.0001, kernel=rbf; total time=   0.3s\n",
      "[CV] END ......................C=10, gamma=0.001, kernel=rbf; total time=   0.1s\n",
      "[CV] END ......................C=10, gamma=0.001, kernel=rbf; total time=   0.1s\n",
      "[CV] END ......................C=10, gamma=0.001, kernel=rbf; total time=   0.1s\n",
      "[CV] END ......................C=10, gamma=0.001, kernel=rbf; total time=   0.1s\n",
      "[CV] END ......................C=10, gamma=0.001, kernel=rbf; total time=   0.1s\n",
      "[CV] END ......................C=100, gamma=0.01, kernel=rbf; total time=   0.0s\n",
      "[CV] END ......................C=100, gamma=0.01, kernel=rbf; total time=   0.1s\n",
      "[CV] END ......................C=100, gamma=0.01, kernel=rbf; total time=   0.1s\n",
      "[CV] END ......................C=100, gamma=0.01, kernel=rbf; total time=   0.0s\n",
      "[CV] END ......................C=100, gamma=0.01, kernel=rbf; total time=   0.0s\n",
      "[CV] END .....................C=0.1, gamma=0.001, kernel=rbf; total time=   0.8s\n",
      "[CV] END .....................C=0.1, gamma=0.001, kernel=rbf; total time=   0.4s\n",
      "[CV] END .....................C=0.1, gamma=0.001, kernel=rbf; total time=   0.5s\n",
      "[CV] END .....................C=0.1, gamma=0.001, kernel=rbf; total time=   0.6s\n",
      "[CV] END .....................C=0.1, gamma=0.001, kernel=rbf; total time=   0.5s\n",
      "[CV] END ......................C=1000, gamma=0.1, kernel=rbf; total time=   0.0s\n",
      "[CV] END ......................C=1000, gamma=0.1, kernel=rbf; total time=   0.0s\n",
      "[CV] END ......................C=1000, gamma=0.1, kernel=rbf; total time=   0.1s\n",
      "[CV] END ......................C=1000, gamma=0.1, kernel=rbf; total time=   0.0s\n",
      "[CV] END ......................C=1000, gamma=0.1, kernel=rbf; total time=   0.0s\n",
      "[CV] END ..........................C=10, gamma=1, kernel=rbf; total time=   0.5s\n",
      "[CV] END ..........................C=10, gamma=1, kernel=rbf; total time=   0.6s\n",
      "[CV] END ..........................C=10, gamma=1, kernel=rbf; total time=   0.6s\n",
      "[CV] END ..........................C=10, gamma=1, kernel=rbf; total time=   0.6s\n",
      "[CV] END ..........................C=10, gamma=1, kernel=rbf; total time=   0.5s\n",
      "[CV] END .....................C=100, gamma=0.001, kernel=rbf; total time=   0.0s\n",
      "[CV] END .....................C=100, gamma=0.001, kernel=rbf; total time=   0.0s\n",
      "[CV] END .....................C=100, gamma=0.001, kernel=rbf; total time=   0.0s\n",
      "[CV] END .....................C=100, gamma=0.001, kernel=rbf; total time=   0.0s\n",
      "[CV] END .....................C=100, gamma=0.001, kernel=rbf; total time=   0.0s\n",
      "[CV] END ....................C=100, gamma=0.0001, kernel=rbf; total time=   0.0s\n",
      "[CV] END ....................C=100, gamma=0.0001, kernel=rbf; total time=   0.0s\n",
      "[CV] END ....................C=100, gamma=0.0001, kernel=rbf; total time=   0.0s\n",
      "[CV] END ....................C=100, gamma=0.0001, kernel=rbf; total time=   0.1s\n",
      "[CV] END ....................C=100, gamma=0.0001, kernel=rbf; total time=   0.1s\n",
      "[CV] END ....................C=0.1, gamma=0.0001, kernel=rbf; total time=   0.6s\n",
      "[CV] END ....................C=0.1, gamma=0.0001, kernel=rbf; total time=   0.7s\n",
      "[CV] END ....................C=0.1, gamma=0.0001, kernel=rbf; total time=   0.6s\n",
      "[CV] END ....................C=0.1, gamma=0.0001, kernel=rbf; total time=   0.5s\n",
      "[CV] END ....................C=0.1, gamma=0.0001, kernel=rbf; total time=   0.5s\n",
      "[CV] END ......................C=0.1, gamma=0.01, kernel=rbf; total time=   0.4s\n",
      "[CV] END ......................C=0.1, gamma=0.01, kernel=rbf; total time=   0.3s\n",
      "[CV] END ......................C=0.1, gamma=0.01, kernel=rbf; total time=   0.2s\n",
      "[CV] END ......................C=0.1, gamma=0.01, kernel=rbf; total time=   0.2s\n",
      "[CV] END ......................C=0.1, gamma=0.01, kernel=rbf; total time=   0.2s\n"
     ]
    },
    {
     "data": {
      "text/html": [
       "<style>#sk-container-id-5 {color: black;background-color: white;}#sk-container-id-5 pre{padding: 0;}#sk-container-id-5 div.sk-toggleable {background-color: white;}#sk-container-id-5 label.sk-toggleable__label {cursor: pointer;display: block;width: 100%;margin-bottom: 0;padding: 0.3em;box-sizing: border-box;text-align: center;}#sk-container-id-5 label.sk-toggleable__label-arrow:before {content: \"▸\";float: left;margin-right: 0.25em;color: #696969;}#sk-container-id-5 label.sk-toggleable__label-arrow:hover:before {color: black;}#sk-container-id-5 div.sk-estimator:hover label.sk-toggleable__label-arrow:before {color: black;}#sk-container-id-5 div.sk-toggleable__content {max-height: 0;max-width: 0;overflow: hidden;text-align: left;background-color: #f0f8ff;}#sk-container-id-5 div.sk-toggleable__content pre {margin: 0.2em;color: black;border-radius: 0.25em;background-color: #f0f8ff;}#sk-container-id-5 input.sk-toggleable__control:checked~div.sk-toggleable__content {max-height: 200px;max-width: 100%;overflow: auto;}#sk-container-id-5 input.sk-toggleable__control:checked~label.sk-toggleable__label-arrow:before {content: \"▾\";}#sk-container-id-5 div.sk-estimator input.sk-toggleable__control:checked~label.sk-toggleable__label {background-color: #d4ebff;}#sk-container-id-5 div.sk-label input.sk-toggleable__control:checked~label.sk-toggleable__label {background-color: #d4ebff;}#sk-container-id-5 input.sk-hidden--visually {border: 0;clip: rect(1px 1px 1px 1px);clip: rect(1px, 1px, 1px, 1px);height: 1px;margin: -1px;overflow: hidden;padding: 0;position: absolute;width: 1px;}#sk-container-id-5 div.sk-estimator {font-family: monospace;background-color: #f0f8ff;border: 1px dotted black;border-radius: 0.25em;box-sizing: border-box;margin-bottom: 0.5em;}#sk-container-id-5 div.sk-estimator:hover {background-color: #d4ebff;}#sk-container-id-5 div.sk-parallel-item::after {content: \"\";width: 100%;border-bottom: 1px solid gray;flex-grow: 1;}#sk-container-id-5 div.sk-label:hover label.sk-toggleable__label {background-color: #d4ebff;}#sk-container-id-5 div.sk-serial::before {content: \"\";position: absolute;border-left: 1px solid gray;box-sizing: border-box;top: 0;bottom: 0;left: 50%;z-index: 0;}#sk-container-id-5 div.sk-serial {display: flex;flex-direction: column;align-items: center;background-color: white;padding-right: 0.2em;padding-left: 0.2em;position: relative;}#sk-container-id-5 div.sk-item {position: relative;z-index: 1;}#sk-container-id-5 div.sk-parallel {display: flex;align-items: stretch;justify-content: center;background-color: white;position: relative;}#sk-container-id-5 div.sk-item::before, #sk-container-id-5 div.sk-parallel-item::before {content: \"\";position: absolute;border-left: 1px solid gray;box-sizing: border-box;top: 0;bottom: 0;left: 50%;z-index: -1;}#sk-container-id-5 div.sk-parallel-item {display: flex;flex-direction: column;z-index: 1;position: relative;background-color: white;}#sk-container-id-5 div.sk-parallel-item:first-child::after {align-self: flex-end;width: 50%;}#sk-container-id-5 div.sk-parallel-item:last-child::after {align-self: flex-start;width: 50%;}#sk-container-id-5 div.sk-parallel-item:only-child::after {width: 0;}#sk-container-id-5 div.sk-dashed-wrapped {border: 1px dashed gray;margin: 0 0.4em 0.5em 0.4em;box-sizing: border-box;padding-bottom: 0.4em;background-color: white;}#sk-container-id-5 div.sk-label label {font-family: monospace;font-weight: bold;display: inline-block;line-height: 1.2em;}#sk-container-id-5 div.sk-label-container {text-align: center;}#sk-container-id-5 div.sk-container {/* jupyter's `normalize.less` sets `[hidden] { display: none; }` but bootstrap.min.css set `[hidden] { display: none !important; }` so we also need the `!important` here to be able to override the default hidden behavior on the sphinx rendered scikit-learn.org. See: https://github.com/scikit-learn/scikit-learn/issues/21755 */display: inline-block !important;position: relative;}#sk-container-id-5 div.sk-text-repr-fallback {display: none;}</style><div id=\"sk-container-id-5\" class=\"sk-top-container\"><div class=\"sk-text-repr-fallback\"><pre>RandomizedSearchCV(estimator=SVC(),\n",
       "                   param_distributions={&#x27;C&#x27;: [0.1, 1, 10, 100, 1000],\n",
       "                                        &#x27;gamma&#x27;: [1, 0.1, 0.01, 0.001, 0.0001],\n",
       "                                        &#x27;kernel&#x27;: [&#x27;rbf&#x27;]},\n",
       "                   random_state=1, verbose=2)</pre><b>In a Jupyter environment, please rerun this cell to show the HTML representation or trust the notebook. <br />On GitHub, the HTML representation is unable to render, please try loading this page with nbviewer.org.</b></div><div class=\"sk-container\" hidden><div class=\"sk-item sk-dashed-wrapped\"><div class=\"sk-label-container\"><div class=\"sk-label sk-toggleable\"><input class=\"sk-toggleable__control sk-hidden--visually\" id=\"sk-estimator-id-5\" type=\"checkbox\" ><label for=\"sk-estimator-id-5\" class=\"sk-toggleable__label sk-toggleable__label-arrow\">RandomizedSearchCV</label><div class=\"sk-toggleable__content\"><pre>RandomizedSearchCV(estimator=SVC(),\n",
       "                   param_distributions={&#x27;C&#x27;: [0.1, 1, 10, 100, 1000],\n",
       "                                        &#x27;gamma&#x27;: [1, 0.1, 0.01, 0.001, 0.0001],\n",
       "                                        &#x27;kernel&#x27;: [&#x27;rbf&#x27;]},\n",
       "                   random_state=1, verbose=2)</pre></div></div></div><div class=\"sk-parallel\"><div class=\"sk-parallel-item\"><div class=\"sk-item\"><div class=\"sk-label-container\"><div class=\"sk-label sk-toggleable\"><input class=\"sk-toggleable__control sk-hidden--visually\" id=\"sk-estimator-id-6\" type=\"checkbox\" ><label for=\"sk-estimator-id-6\" class=\"sk-toggleable__label sk-toggleable__label-arrow\">estimator: SVC</label><div class=\"sk-toggleable__content\"><pre>SVC()</pre></div></div></div><div class=\"sk-serial\"><div class=\"sk-item\"><div class=\"sk-estimator sk-toggleable\"><input class=\"sk-toggleable__control sk-hidden--visually\" id=\"sk-estimator-id-7\" type=\"checkbox\" ><label for=\"sk-estimator-id-7\" class=\"sk-toggleable__label sk-toggleable__label-arrow\">SVC</label><div class=\"sk-toggleable__content\"><pre>SVC()</pre></div></div></div></div></div></div></div></div></div></div>"
      ],
      "text/plain": [
       "RandomizedSearchCV(estimator=SVC(),\n",
       "                   param_distributions={'C': [0.1, 1, 10, 100, 1000],\n",
       "                                        'gamma': [1, 0.1, 0.01, 0.001, 0.0001],\n",
       "                                        'kernel': ['rbf']},\n",
       "                   random_state=1, verbose=2)"
      ]
     },
     "execution_count": 47,
     "metadata": {},
     "output_type": "execute_result"
    }
   ],
   "source": [
    "clf.fit(X_train, y_train)"
   ]
  },
  {
   "cell_type": "code",
   "execution_count": 48,
   "id": "08e24148",
   "metadata": {},
   "outputs": [
    {
     "name": "stdout",
     "output_type": "stream",
     "text": [
      "{'kernel': 'rbf', 'gamma': 0.01, 'C': 100}\n"
     ]
    }
   ],
   "source": [
    "print(clf.best_params_)"
   ]
  },
  {
   "cell_type": "code",
   "execution_count": 49,
   "id": "ebd82216",
   "metadata": {},
   "outputs": [],
   "source": [
    "svc = SVC(C=100, gamma=0.01, kernel='rbf')\n",
    "svc.fit(X_train, y_train)\n",
    "preds_svc_train = svc.predict(X_train)\n",
    "preds_svc_test = svc.predict(X_test)"
   ]
  },
  {
   "cell_type": "code",
   "execution_count": 50,
   "id": "390bfbbb",
   "metadata": {},
   "outputs": [
    {
     "name": "stdout",
     "output_type": "stream",
     "text": [
      "model accuracy is: 0.9907894736842106\n",
      "[[1134    6]\n",
      " [  15 1125]]\n",
      "              precision    recall  f1-score   support\n",
      "\n",
      "           0       0.99      0.99      0.99      1140\n",
      "           1       0.99      0.99      0.99      1140\n",
      "\n",
      "    accuracy                           0.99      2280\n",
      "   macro avg       0.99      0.99      0.99      2280\n",
      "weighted avg       0.99      0.99      0.99      2280\n",
      "\n"
     ]
    }
   ],
   "source": [
    "model_eval(y_train, preds_svc_train)"
   ]
  },
  {
   "cell_type": "code",
   "execution_count": 51,
   "id": "46dacfd6",
   "metadata": {},
   "outputs": [
    {
     "name": "stdout",
     "output_type": "stream",
     "text": [
      "model accuracy is: 0.9754816112084063\n",
      "[[286   6]\n",
      " [  8 271]]\n",
      "              precision    recall  f1-score   support\n",
      "\n",
      "           0       0.97      0.98      0.98       292\n",
      "           1       0.98      0.97      0.97       279\n",
      "\n",
      "    accuracy                           0.98       571\n",
      "   macro avg       0.98      0.98      0.98       571\n",
      "weighted avg       0.98      0.98      0.98       571\n",
      "\n"
     ]
    }
   ],
   "source": [
    "model_eval(y_test, preds_svc_test)"
   ]
  },
  {
   "cell_type": "code",
   "execution_count": 52,
   "id": "52d801cf",
   "metadata": {},
   "outputs": [],
   "source": [
    "distributions = dict(n_estimators=[50,100,150,200,250], learning_rate=[0.01,0.05,0.1,0.25,0.5,1], max_depth=[1,2,3,4,5])"
   ]
  },
  {
   "cell_type": "code",
   "execution_count": 53,
   "id": "a3ea94d6",
   "metadata": {},
   "outputs": [],
   "source": [
    "clf=RandomizedSearchCV(gb, distributions, random_state=1, verbose=2)"
   ]
  },
  {
   "cell_type": "code",
   "execution_count": 54,
   "id": "a3d73017",
   "metadata": {},
   "outputs": [
    {
     "name": "stdout",
     "output_type": "stream",
     "text": [
      "Fitting 5 folds for each of 10 candidates, totalling 50 fits\n",
      "[CV] END ..learning_rate=0.01, max_depth=3, n_estimators=250; total time=   8.9s\n",
      "[CV] END ..learning_rate=0.01, max_depth=3, n_estimators=250; total time=   8.9s\n",
      "[CV] END ..learning_rate=0.01, max_depth=3, n_estimators=250; total time=   7.9s\n",
      "[CV] END ..learning_rate=0.01, max_depth=3, n_estimators=250; total time=   9.0s\n",
      "[CV] END ..learning_rate=0.01, max_depth=3, n_estimators=250; total time=   9.1s\n",
      "[CV] END ..learning_rate=0.25, max_depth=5, n_estimators=200; total time=  12.3s\n",
      "[CV] END ..learning_rate=0.25, max_depth=5, n_estimators=200; total time=  11.0s\n",
      "[CV] END ..learning_rate=0.25, max_depth=5, n_estimators=200; total time=  10.1s\n",
      "[CV] END ..learning_rate=0.25, max_depth=5, n_estimators=200; total time=   9.7s\n",
      "[CV] END ..learning_rate=0.25, max_depth=5, n_estimators=200; total time=   9.7s\n",
      "[CV] END ...learning_rate=0.25, max_depth=1, n_estimators=50; total time=   0.5s\n",
      "[CV] END ...learning_rate=0.25, max_depth=1, n_estimators=50; total time=   0.4s\n",
      "[CV] END ...learning_rate=0.25, max_depth=1, n_estimators=50; total time=   0.4s\n",
      "[CV] END ...learning_rate=0.25, max_depth=1, n_estimators=50; total time=   0.5s\n",
      "[CV] END ...learning_rate=0.25, max_depth=1, n_estimators=50; total time=   0.6s\n",
      "[CV] END ..learning_rate=0.01, max_depth=4, n_estimators=100; total time=   3.8s\n",
      "[CV] END ..learning_rate=0.01, max_depth=4, n_estimators=100; total time=   3.4s\n",
      "[CV] END ..learning_rate=0.01, max_depth=4, n_estimators=100; total time=   3.7s\n",
      "[CV] END ..learning_rate=0.01, max_depth=4, n_estimators=100; total time=   5.6s\n",
      "[CV] END ..learning_rate=0.01, max_depth=4, n_estimators=100; total time=   4.7s\n",
      "[CV] END .....learning_rate=1, max_depth=2, n_estimators=100; total time=   2.7s\n",
      "[CV] END .....learning_rate=1, max_depth=2, n_estimators=100; total time=   2.6s\n",
      "[CV] END .....learning_rate=1, max_depth=2, n_estimators=100; total time=   2.6s\n",
      "[CV] END .....learning_rate=1, max_depth=2, n_estimators=100; total time=   2.6s\n",
      "[CV] END .....learning_rate=1, max_depth=2, n_estimators=100; total time=   2.0s\n",
      "[CV] END ...learning_rate=0.1, max_depth=2, n_estimators=100; total time=   3.0s\n",
      "[CV] END ...learning_rate=0.1, max_depth=2, n_estimators=100; total time=   2.2s\n",
      "[CV] END ...learning_rate=0.1, max_depth=2, n_estimators=100; total time=   3.4s\n",
      "[CV] END ...learning_rate=0.1, max_depth=2, n_estimators=100; total time=   3.5s\n",
      "[CV] END ...learning_rate=0.1, max_depth=2, n_estimators=100; total time=   3.4s\n",
      "[CV] END .....learning_rate=1, max_depth=4, n_estimators=100; total time=   6.6s\n",
      "[CV] END .....learning_rate=1, max_depth=4, n_estimators=100; total time=   5.8s\n",
      "[CV] END .....learning_rate=1, max_depth=4, n_estimators=100; total time=   5.6s\n",
      "[CV] END .....learning_rate=1, max_depth=4, n_estimators=100; total time=   5.0s\n",
      "[CV] END .....learning_rate=1, max_depth=4, n_estimators=100; total time=   6.0s\n",
      "[CV] END ..learning_rate=0.05, max_depth=4, n_estimators=250; total time=  13.9s\n",
      "[CV] END ..learning_rate=0.05, max_depth=4, n_estimators=250; total time=  15.5s\n",
      "[CV] END ..learning_rate=0.05, max_depth=4, n_estimators=250; total time=  16.5s\n",
      "[CV] END ..learning_rate=0.05, max_depth=4, n_estimators=250; total time=  13.6s\n",
      "[CV] END ..learning_rate=0.05, max_depth=4, n_estimators=250; total time=  13.9s\n",
      "[CV] END ..learning_rate=0.05, max_depth=1, n_estimators=250; total time=   4.2s\n",
      "[CV] END ..learning_rate=0.05, max_depth=1, n_estimators=250; total time=   4.2s\n",
      "[CV] END ..learning_rate=0.05, max_depth=1, n_estimators=250; total time=   4.0s\n",
      "[CV] END ..learning_rate=0.05, max_depth=1, n_estimators=250; total time=   3.6s\n",
      "[CV] END ..learning_rate=0.05, max_depth=1, n_estimators=250; total time=   4.0s\n",
      "[CV] END ....learning_rate=0.5, max_depth=5, n_estimators=50; total time=   3.7s\n",
      "[CV] END ....learning_rate=0.5, max_depth=5, n_estimators=50; total time=   3.5s\n",
      "[CV] END ....learning_rate=0.5, max_depth=5, n_estimators=50; total time=   3.4s\n",
      "[CV] END ....learning_rate=0.5, max_depth=5, n_estimators=50; total time=   3.8s\n",
      "[CV] END ....learning_rate=0.5, max_depth=5, n_estimators=50; total time=   3.4s\n"
     ]
    },
    {
     "data": {
      "text/html": [
       "<style>#sk-container-id-6 {color: black;background-color: white;}#sk-container-id-6 pre{padding: 0;}#sk-container-id-6 div.sk-toggleable {background-color: white;}#sk-container-id-6 label.sk-toggleable__label {cursor: pointer;display: block;width: 100%;margin-bottom: 0;padding: 0.3em;box-sizing: border-box;text-align: center;}#sk-container-id-6 label.sk-toggleable__label-arrow:before {content: \"▸\";float: left;margin-right: 0.25em;color: #696969;}#sk-container-id-6 label.sk-toggleable__label-arrow:hover:before {color: black;}#sk-container-id-6 div.sk-estimator:hover label.sk-toggleable__label-arrow:before {color: black;}#sk-container-id-6 div.sk-toggleable__content {max-height: 0;max-width: 0;overflow: hidden;text-align: left;background-color: #f0f8ff;}#sk-container-id-6 div.sk-toggleable__content pre {margin: 0.2em;color: black;border-radius: 0.25em;background-color: #f0f8ff;}#sk-container-id-6 input.sk-toggleable__control:checked~div.sk-toggleable__content {max-height: 200px;max-width: 100%;overflow: auto;}#sk-container-id-6 input.sk-toggleable__control:checked~label.sk-toggleable__label-arrow:before {content: \"▾\";}#sk-container-id-6 div.sk-estimator input.sk-toggleable__control:checked~label.sk-toggleable__label {background-color: #d4ebff;}#sk-container-id-6 div.sk-label input.sk-toggleable__control:checked~label.sk-toggleable__label {background-color: #d4ebff;}#sk-container-id-6 input.sk-hidden--visually {border: 0;clip: rect(1px 1px 1px 1px);clip: rect(1px, 1px, 1px, 1px);height: 1px;margin: -1px;overflow: hidden;padding: 0;position: absolute;width: 1px;}#sk-container-id-6 div.sk-estimator {font-family: monospace;background-color: #f0f8ff;border: 1px dotted black;border-radius: 0.25em;box-sizing: border-box;margin-bottom: 0.5em;}#sk-container-id-6 div.sk-estimator:hover {background-color: #d4ebff;}#sk-container-id-6 div.sk-parallel-item::after {content: \"\";width: 100%;border-bottom: 1px solid gray;flex-grow: 1;}#sk-container-id-6 div.sk-label:hover label.sk-toggleable__label {background-color: #d4ebff;}#sk-container-id-6 div.sk-serial::before {content: \"\";position: absolute;border-left: 1px solid gray;box-sizing: border-box;top: 0;bottom: 0;left: 50%;z-index: 0;}#sk-container-id-6 div.sk-serial {display: flex;flex-direction: column;align-items: center;background-color: white;padding-right: 0.2em;padding-left: 0.2em;position: relative;}#sk-container-id-6 div.sk-item {position: relative;z-index: 1;}#sk-container-id-6 div.sk-parallel {display: flex;align-items: stretch;justify-content: center;background-color: white;position: relative;}#sk-container-id-6 div.sk-item::before, #sk-container-id-6 div.sk-parallel-item::before {content: \"\";position: absolute;border-left: 1px solid gray;box-sizing: border-box;top: 0;bottom: 0;left: 50%;z-index: -1;}#sk-container-id-6 div.sk-parallel-item {display: flex;flex-direction: column;z-index: 1;position: relative;background-color: white;}#sk-container-id-6 div.sk-parallel-item:first-child::after {align-self: flex-end;width: 50%;}#sk-container-id-6 div.sk-parallel-item:last-child::after {align-self: flex-start;width: 50%;}#sk-container-id-6 div.sk-parallel-item:only-child::after {width: 0;}#sk-container-id-6 div.sk-dashed-wrapped {border: 1px dashed gray;margin: 0 0.4em 0.5em 0.4em;box-sizing: border-box;padding-bottom: 0.4em;background-color: white;}#sk-container-id-6 div.sk-label label {font-family: monospace;font-weight: bold;display: inline-block;line-height: 1.2em;}#sk-container-id-6 div.sk-label-container {text-align: center;}#sk-container-id-6 div.sk-container {/* jupyter's `normalize.less` sets `[hidden] { display: none; }` but bootstrap.min.css set `[hidden] { display: none !important; }` so we also need the `!important` here to be able to override the default hidden behavior on the sphinx rendered scikit-learn.org. See: https://github.com/scikit-learn/scikit-learn/issues/21755 */display: inline-block !important;position: relative;}#sk-container-id-6 div.sk-text-repr-fallback {display: none;}</style><div id=\"sk-container-id-6\" class=\"sk-top-container\"><div class=\"sk-text-repr-fallback\"><pre>RandomizedSearchCV(estimator=GradientBoostingClassifier(),\n",
       "                   param_distributions={&#x27;learning_rate&#x27;: [0.01, 0.05, 0.1, 0.25,\n",
       "                                                          0.5, 1],\n",
       "                                        &#x27;max_depth&#x27;: [1, 2, 3, 4, 5],\n",
       "                                        &#x27;n_estimators&#x27;: [50, 100, 150, 200,\n",
       "                                                         250]},\n",
       "                   random_state=1, verbose=2)</pre><b>In a Jupyter environment, please rerun this cell to show the HTML representation or trust the notebook. <br />On GitHub, the HTML representation is unable to render, please try loading this page with nbviewer.org.</b></div><div class=\"sk-container\" hidden><div class=\"sk-item sk-dashed-wrapped\"><div class=\"sk-label-container\"><div class=\"sk-label sk-toggleable\"><input class=\"sk-toggleable__control sk-hidden--visually\" id=\"sk-estimator-id-8\" type=\"checkbox\" ><label for=\"sk-estimator-id-8\" class=\"sk-toggleable__label sk-toggleable__label-arrow\">RandomizedSearchCV</label><div class=\"sk-toggleable__content\"><pre>RandomizedSearchCV(estimator=GradientBoostingClassifier(),\n",
       "                   param_distributions={&#x27;learning_rate&#x27;: [0.01, 0.05, 0.1, 0.25,\n",
       "                                                          0.5, 1],\n",
       "                                        &#x27;max_depth&#x27;: [1, 2, 3, 4, 5],\n",
       "                                        &#x27;n_estimators&#x27;: [50, 100, 150, 200,\n",
       "                                                         250]},\n",
       "                   random_state=1, verbose=2)</pre></div></div></div><div class=\"sk-parallel\"><div class=\"sk-parallel-item\"><div class=\"sk-item\"><div class=\"sk-label-container\"><div class=\"sk-label sk-toggleable\"><input class=\"sk-toggleable__control sk-hidden--visually\" id=\"sk-estimator-id-9\" type=\"checkbox\" ><label for=\"sk-estimator-id-9\" class=\"sk-toggleable__label sk-toggleable__label-arrow\">estimator: GradientBoostingClassifier</label><div class=\"sk-toggleable__content\"><pre>GradientBoostingClassifier()</pre></div></div></div><div class=\"sk-serial\"><div class=\"sk-item\"><div class=\"sk-estimator sk-toggleable\"><input class=\"sk-toggleable__control sk-hidden--visually\" id=\"sk-estimator-id-10\" type=\"checkbox\" ><label for=\"sk-estimator-id-10\" class=\"sk-toggleable__label sk-toggleable__label-arrow\">GradientBoostingClassifier</label><div class=\"sk-toggleable__content\"><pre>GradientBoostingClassifier()</pre></div></div></div></div></div></div></div></div></div></div>"
      ],
      "text/plain": [
       "RandomizedSearchCV(estimator=GradientBoostingClassifier(),\n",
       "                   param_distributions={'learning_rate': [0.01, 0.05, 0.1, 0.25,\n",
       "                                                          0.5, 1],\n",
       "                                        'max_depth': [1, 2, 3, 4, 5],\n",
       "                                        'n_estimators': [50, 100, 150, 200,\n",
       "                                                         250]},\n",
       "                   random_state=1, verbose=2)"
      ]
     },
     "execution_count": 54,
     "metadata": {},
     "output_type": "execute_result"
    }
   ],
   "source": [
    "clf.fit(X_train, y_train)"
   ]
  },
  {
   "cell_type": "code",
   "execution_count": 55,
   "id": "abce3c3b",
   "metadata": {},
   "outputs": [
    {
     "name": "stdout",
     "output_type": "stream",
     "text": [
      "{'n_estimators': 100, 'max_depth': 2, 'learning_rate': 1}\n"
     ]
    }
   ],
   "source": [
    "print(clf.best_params_)"
   ]
  },
  {
   "cell_type": "code",
   "execution_count": 56,
   "id": "0f8fa6a6",
   "metadata": {},
   "outputs": [],
   "source": [
    "gb = GradientBoostingClassifier(n_estimators=100, learning_rate=1, max_depth=4)\n",
    "gb.fit(X_train, y_train)\n",
    "preds_gb_train = gb.predict(X_train)\n",
    "preds_gb_test = gb.predict(X_test)"
   ]
  },
  {
   "cell_type": "code",
   "execution_count": 57,
   "id": "0366b880",
   "metadata": {},
   "outputs": [
    {
     "name": "stdout",
     "output_type": "stream",
     "text": [
      "model accuracy is: 1.0\n",
      "[[1140    0]\n",
      " [   0 1140]]\n",
      "              precision    recall  f1-score   support\n",
      "\n",
      "           0       1.00      1.00      1.00      1140\n",
      "           1       1.00      1.00      1.00      1140\n",
      "\n",
      "    accuracy                           1.00      2280\n",
      "   macro avg       1.00      1.00      1.00      2280\n",
      "weighted avg       1.00      1.00      1.00      2280\n",
      "\n"
     ]
    }
   ],
   "source": [
    "model_eval(y_train, preds_gb_train)"
   ]
  },
  {
   "cell_type": "code",
   "execution_count": 58,
   "id": "51489c63",
   "metadata": {},
   "outputs": [
    {
     "name": "stdout",
     "output_type": "stream",
     "text": [
      "model accuracy is: 0.9772329246935202\n",
      "[[287   5]\n",
      " [  8 271]]\n",
      "              precision    recall  f1-score   support\n",
      "\n",
      "           0       0.97      0.98      0.98       292\n",
      "           1       0.98      0.97      0.98       279\n",
      "\n",
      "    accuracy                           0.98       571\n",
      "   macro avg       0.98      0.98      0.98       571\n",
      "weighted avg       0.98      0.98      0.98       571\n",
      "\n"
     ]
    }
   ],
   "source": [
    "model_eval(y_test, preds_gb_test)"
   ]
  },
  {
   "cell_type": "code",
   "execution_count": 60,
   "id": "c9144ac1",
   "metadata": {},
   "outputs": [
    {
     "name": "stdout",
     "output_type": "stream",
     "text": [
      "Mean Accuracy: 0.9796589547423725\n",
      "Mean Precision: 0.9816777021785086\n",
      "Mean Recall: 0.9774523465883641\n",
      "Mean F1 Score: 0.9795219548278125\n",
      "Standard Deviation of F1 Scores: 0.006931734609818342\n"
     ]
    }
   ],
   "source": [
    "from sklearn.model_selection import cross_validate, StratifiedKFold\n",
    "from sklearn.svm import SVC\n",
    "from sklearn.metrics import make_scorer, accuracy_score, precision_score, recall_score, f1_score\n",
    "\n",
    "# Using optimized parameters\n",
    "model = SVC(C=100, gamma=0.01, kernel='rbf')\n",
    "scoring = {\n",
    "    'accuracy': make_scorer(accuracy_score),\n",
    "    'precision': make_scorer(precision_score),\n",
    "    'recall': make_scorer(recall_score),\n",
    "    'f1_score': make_scorer(f1_score)\n",
    "}\n",
    "\n",
    "num_folds = 5  \n",
    "cv = StratifiedKFold(n_splits=num_folds, shuffle=True, random_state=1)\n",
    "\n",
    "# Perform cross-validation and store the results in a dictionary\n",
    "results = cross_validate(model, X, y, cv=cv, scoring=scoring)\n",
    "\n",
    "# Extract and calculate the mean and standard deviation for each metric\n",
    "mean_accuracy = results['test_accuracy'].mean()\n",
    "mean_precision = results['test_precision'].mean()\n",
    "mean_recall = results['test_recall'].mean()\n",
    "mean_f1_score = results['test_f1_score'].mean()\n",
    "std_f1_score = results['test_f1_score'].std()\n",
    "\n",
    "print(f\"Mean Accuracy: {mean_accuracy}\")\n",
    "print(f\"Mean Precision: {mean_precision}\")\n",
    "print(f\"Mean Recall: {mean_recall}\")\n",
    "print(f\"Mean F1 Score: {mean_f1_score}\")\n",
    "print(f\"Standard Deviation of F1 Scores: {std_f1_score}\")"
   ]
  },
  {
   "cell_type": "code",
   "execution_count": 61,
   "id": "c2c034a0",
   "metadata": {},
   "outputs": [
    {
     "name": "stdout",
     "output_type": "stream",
     "text": [
      "Mean Accuracy: 0.9768519371985128\n",
      "Mean Precision: 0.9774737019835967\n",
      "Mean Recall: 0.9760389190265266\n",
      "Mean F1 Score: 0.9767427323914504\n",
      "Standard Deviation of F1 Scores: 0.008092692948742163\n"
     ]
    }
   ],
   "source": [
    "from sklearn.model_selection import cross_validate, StratifiedKFold\n",
    "from sklearn.ensemble import GradientBoostingClassifier\n",
    "from sklearn.metrics import make_scorer, accuracy_score, precision_score, recall_score, f1_score\n",
    "\n",
    "# Using optimized parameters\n",
    "model = GradientBoostingClassifier(n_estimators=100, learning_rate=1, max_depth=4)\n",
    "scoring = {\n",
    "    'accuracy': make_scorer(accuracy_score),\n",
    "    'precision': make_scorer(precision_score),\n",
    "    'recall': make_scorer(recall_score),\n",
    "    'f1_score': make_scorer(f1_score)\n",
    "}\n",
    "\n",
    "num_folds = 5  \n",
    "cv = StratifiedKFold(n_splits=num_folds, shuffle=True, random_state=123)\n",
    "\n",
    "# Perform cross-validation and store the results in a dictionary\n",
    "results = cross_validate(model, X, y, cv=cv, scoring=scoring)\n",
    "\n",
    "# Extract and calculate the mean and standard deviation for each metric\n",
    "mean_accuracy = results['test_accuracy'].mean()\n",
    "mean_precision = results['test_precision'].mean()\n",
    "mean_recall = results['test_recall'].mean()\n",
    "mean_f1_score = results['test_f1_score'].mean()\n",
    "std_f1_score = results['test_f1_score'].std()\n",
    "\n",
    "print(f\"Mean Accuracy: {mean_accuracy}\")\n",
    "print(f\"Mean Precision: {mean_precision}\")\n",
    "print(f\"Mean Recall: {mean_recall}\")\n",
    "print(f\"Mean F1 Score: {mean_f1_score}\")\n",
    "print(f\"Standard Deviation of F1 Scores: {std_f1_score}\")"
   ]
  },
  {
   "cell_type": "code",
   "execution_count": 69,
   "id": "4979409f",
   "metadata": {},
   "outputs": [
    {
     "data": {
      "text/html": [
       "<style>#sk-container-id-7 {color: black;background-color: white;}#sk-container-id-7 pre{padding: 0;}#sk-container-id-7 div.sk-toggleable {background-color: white;}#sk-container-id-7 label.sk-toggleable__label {cursor: pointer;display: block;width: 100%;margin-bottom: 0;padding: 0.3em;box-sizing: border-box;text-align: center;}#sk-container-id-7 label.sk-toggleable__label-arrow:before {content: \"▸\";float: left;margin-right: 0.25em;color: #696969;}#sk-container-id-7 label.sk-toggleable__label-arrow:hover:before {color: black;}#sk-container-id-7 div.sk-estimator:hover label.sk-toggleable__label-arrow:before {color: black;}#sk-container-id-7 div.sk-toggleable__content {max-height: 0;max-width: 0;overflow: hidden;text-align: left;background-color: #f0f8ff;}#sk-container-id-7 div.sk-toggleable__content pre {margin: 0.2em;color: black;border-radius: 0.25em;background-color: #f0f8ff;}#sk-container-id-7 input.sk-toggleable__control:checked~div.sk-toggleable__content {max-height: 200px;max-width: 100%;overflow: auto;}#sk-container-id-7 input.sk-toggleable__control:checked~label.sk-toggleable__label-arrow:before {content: \"▾\";}#sk-container-id-7 div.sk-estimator input.sk-toggleable__control:checked~label.sk-toggleable__label {background-color: #d4ebff;}#sk-container-id-7 div.sk-label input.sk-toggleable__control:checked~label.sk-toggleable__label {background-color: #d4ebff;}#sk-container-id-7 input.sk-hidden--visually {border: 0;clip: rect(1px 1px 1px 1px);clip: rect(1px, 1px, 1px, 1px);height: 1px;margin: -1px;overflow: hidden;padding: 0;position: absolute;width: 1px;}#sk-container-id-7 div.sk-estimator {font-family: monospace;background-color: #f0f8ff;border: 1px dotted black;border-radius: 0.25em;box-sizing: border-box;margin-bottom: 0.5em;}#sk-container-id-7 div.sk-estimator:hover {background-color: #d4ebff;}#sk-container-id-7 div.sk-parallel-item::after {content: \"\";width: 100%;border-bottom: 1px solid gray;flex-grow: 1;}#sk-container-id-7 div.sk-label:hover label.sk-toggleable__label {background-color: #d4ebff;}#sk-container-id-7 div.sk-serial::before {content: \"\";position: absolute;border-left: 1px solid gray;box-sizing: border-box;top: 0;bottom: 0;left: 50%;z-index: 0;}#sk-container-id-7 div.sk-serial {display: flex;flex-direction: column;align-items: center;background-color: white;padding-right: 0.2em;padding-left: 0.2em;position: relative;}#sk-container-id-7 div.sk-item {position: relative;z-index: 1;}#sk-container-id-7 div.sk-parallel {display: flex;align-items: stretch;justify-content: center;background-color: white;position: relative;}#sk-container-id-7 div.sk-item::before, #sk-container-id-7 div.sk-parallel-item::before {content: \"\";position: absolute;border-left: 1px solid gray;box-sizing: border-box;top: 0;bottom: 0;left: 50%;z-index: -1;}#sk-container-id-7 div.sk-parallel-item {display: flex;flex-direction: column;z-index: 1;position: relative;background-color: white;}#sk-container-id-7 div.sk-parallel-item:first-child::after {align-self: flex-end;width: 50%;}#sk-container-id-7 div.sk-parallel-item:last-child::after {align-self: flex-start;width: 50%;}#sk-container-id-7 div.sk-parallel-item:only-child::after {width: 0;}#sk-container-id-7 div.sk-dashed-wrapped {border: 1px dashed gray;margin: 0 0.4em 0.5em 0.4em;box-sizing: border-box;padding-bottom: 0.4em;background-color: white;}#sk-container-id-7 div.sk-label label {font-family: monospace;font-weight: bold;display: inline-block;line-height: 1.2em;}#sk-container-id-7 div.sk-label-container {text-align: center;}#sk-container-id-7 div.sk-container {/* jupyter's `normalize.less` sets `[hidden] { display: none; }` but bootstrap.min.css set `[hidden] { display: none !important; }` so we also need the `!important` here to be able to override the default hidden behavior on the sphinx rendered scikit-learn.org. See: https://github.com/scikit-learn/scikit-learn/issues/21755 */display: inline-block !important;position: relative;}#sk-container-id-7 div.sk-text-repr-fallback {display: none;}</style><div id=\"sk-container-id-7\" class=\"sk-top-container\"><div class=\"sk-text-repr-fallback\"><pre>SVC(C=100, gamma=0.01)</pre><b>In a Jupyter environment, please rerun this cell to show the HTML representation or trust the notebook. <br />On GitHub, the HTML representation is unable to render, please try loading this page with nbviewer.org.</b></div><div class=\"sk-container\" hidden><div class=\"sk-item\"><div class=\"sk-estimator sk-toggleable\"><input class=\"sk-toggleable__control sk-hidden--visually\" id=\"sk-estimator-id-11\" type=\"checkbox\" checked><label for=\"sk-estimator-id-11\" class=\"sk-toggleable__label sk-toggleable__label-arrow\">SVC</label><div class=\"sk-toggleable__content\"><pre>SVC(C=100, gamma=0.01)</pre></div></div></div></div></div>"
      ],
      "text/plain": [
       "SVC(C=100, gamma=0.01)"
      ]
     },
     "execution_count": 69,
     "metadata": {},
     "output_type": "execute_result"
    }
   ],
   "source": [
    "optimized_svc = SVC(C=100, gamma=0.01, kernel='rbf')\n",
    "\n",
    "# Train the model on your entire training dataset.\n",
    "optimized_svc.fit(X_train, y_train)"
   ]
  },
  {
   "cell_type": "code",
   "execution_count": 95,
   "id": "7ae427ee",
   "metadata": {},
   "outputs": [],
   "source": [
    "test_set=pd.read_csv(r\"C:\\Users\\Hp\\Desktop\\insaid class\\Projects\\Voice prediction by gender\\Gender-Recognition-by-Voice1\\voice_test.csv\")"
   ]
  },
  {
   "cell_type": "code",
   "execution_count": 96,
   "id": "ea837be6",
   "metadata": {},
   "outputs": [
    {
     "data": {
      "text/html": [
       "<div>\n",
       "<style scoped>\n",
       "    .dataframe tbody tr th:only-of-type {\n",
       "        vertical-align: middle;\n",
       "    }\n",
       "\n",
       "    .dataframe tbody tr th {\n",
       "        vertical-align: top;\n",
       "    }\n",
       "\n",
       "    .dataframe thead th {\n",
       "        text-align: right;\n",
       "    }\n",
       "</style>\n",
       "<table border=\"1\" class=\"dataframe\">\n",
       "  <thead>\n",
       "    <tr style=\"text-align: right;\">\n",
       "      <th></th>\n",
       "      <th>Id</th>\n",
       "      <th>meanfreq</th>\n",
       "      <th>sd</th>\n",
       "      <th>median</th>\n",
       "      <th>Q25</th>\n",
       "      <th>Q75</th>\n",
       "      <th>IQR</th>\n",
       "      <th>skew</th>\n",
       "      <th>kurt</th>\n",
       "      <th>sp.ent</th>\n",
       "      <th>...</th>\n",
       "      <th>mode</th>\n",
       "      <th>centroid</th>\n",
       "      <th>meanfun</th>\n",
       "      <th>minfun</th>\n",
       "      <th>maxfun</th>\n",
       "      <th>meandom</th>\n",
       "      <th>mindom</th>\n",
       "      <th>maxdom</th>\n",
       "      <th>dfrange</th>\n",
       "      <th>modindx</th>\n",
       "    </tr>\n",
       "  </thead>\n",
       "  <tbody>\n",
       "    <tr>\n",
       "      <th>0</th>\n",
       "      <td>2148</td>\n",
       "      <td>0.186833</td>\n",
       "      <td>0.027472</td>\n",
       "      <td>0.184325</td>\n",
       "      <td>0.173955</td>\n",
       "      <td>0.204731</td>\n",
       "      <td>0.030777</td>\n",
       "      <td>2.655225</td>\n",
       "      <td>10.565846</td>\n",
       "      <td>0.821812</td>\n",
       "      <td>...</td>\n",
       "      <td>0.180645</td>\n",
       "      <td>0.186833</td>\n",
       "      <td>0.172790</td>\n",
       "      <td>0.023495</td>\n",
       "      <td>0.271186</td>\n",
       "      <td>0.178571</td>\n",
       "      <td>0.007812</td>\n",
       "      <td>0.226562</td>\n",
       "      <td>0.218750</td>\n",
       "      <td>0.108929</td>\n",
       "    </tr>\n",
       "    <tr>\n",
       "      <th>1</th>\n",
       "      <td>1124</td>\n",
       "      <td>0.188879</td>\n",
       "      <td>0.060316</td>\n",
       "      <td>0.195537</td>\n",
       "      <td>0.138072</td>\n",
       "      <td>0.242975</td>\n",
       "      <td>0.104904</td>\n",
       "      <td>1.497393</td>\n",
       "      <td>5.037085</td>\n",
       "      <td>0.909425</td>\n",
       "      <td>...</td>\n",
       "      <td>0.140386</td>\n",
       "      <td>0.188879</td>\n",
       "      <td>0.133092</td>\n",
       "      <td>0.050847</td>\n",
       "      <td>0.272727</td>\n",
       "      <td>0.855938</td>\n",
       "      <td>0.023438</td>\n",
       "      <td>8.718750</td>\n",
       "      <td>8.695312</td>\n",
       "      <td>0.098712</td>\n",
       "    </tr>\n",
       "    <tr>\n",
       "      <th>2</th>\n",
       "      <td>170</td>\n",
       "      <td>0.150705</td>\n",
       "      <td>0.087127</td>\n",
       "      <td>0.174299</td>\n",
       "      <td>0.069666</td>\n",
       "      <td>0.226082</td>\n",
       "      <td>0.156416</td>\n",
       "      <td>2.603951</td>\n",
       "      <td>22.328899</td>\n",
       "      <td>0.969287</td>\n",
       "      <td>...</td>\n",
       "      <td>0.050181</td>\n",
       "      <td>0.150705</td>\n",
       "      <td>0.109992</td>\n",
       "      <td>0.017260</td>\n",
       "      <td>0.266667</td>\n",
       "      <td>1.240954</td>\n",
       "      <td>0.007812</td>\n",
       "      <td>5.562500</td>\n",
       "      <td>5.554688</td>\n",
       "      <td>0.332396</td>\n",
       "    </tr>\n",
       "    <tr>\n",
       "      <th>3</th>\n",
       "      <td>3158</td>\n",
       "      <td>0.183667</td>\n",
       "      <td>0.040607</td>\n",
       "      <td>0.182534</td>\n",
       "      <td>0.156480</td>\n",
       "      <td>0.207646</td>\n",
       "      <td>0.051166</td>\n",
       "      <td>2.054138</td>\n",
       "      <td>7.483019</td>\n",
       "      <td>0.898138</td>\n",
       "      <td>...</td>\n",
       "      <td>0.177040</td>\n",
       "      <td>0.183667</td>\n",
       "      <td>0.149237</td>\n",
       "      <td>0.018648</td>\n",
       "      <td>0.262295</td>\n",
       "      <td>0.550312</td>\n",
       "      <td>0.007812</td>\n",
       "      <td>3.421875</td>\n",
       "      <td>3.414062</td>\n",
       "      <td>0.166503</td>\n",
       "    </tr>\n",
       "    <tr>\n",
       "      <th>4</th>\n",
       "      <td>2229</td>\n",
       "      <td>0.205159</td>\n",
       "      <td>0.039543</td>\n",
       "      <td>0.210805</td>\n",
       "      <td>0.186667</td>\n",
       "      <td>0.228908</td>\n",
       "      <td>0.042241</td>\n",
       "      <td>2.099683</td>\n",
       "      <td>7.562209</td>\n",
       "      <td>0.876002</td>\n",
       "      <td>...</td>\n",
       "      <td>0.224885</td>\n",
       "      <td>0.205159</td>\n",
       "      <td>0.154736</td>\n",
       "      <td>0.047105</td>\n",
       "      <td>0.277457</td>\n",
       "      <td>1.578835</td>\n",
       "      <td>0.187500</td>\n",
       "      <td>10.804688</td>\n",
       "      <td>10.617188</td>\n",
       "      <td>0.113644</td>\n",
       "    </tr>\n",
       "  </tbody>\n",
       "</table>\n",
       "<p>5 rows × 21 columns</p>\n",
       "</div>"
      ],
      "text/plain": [
       "     Id  meanfreq        sd    median       Q25       Q75       IQR      skew  \\\n",
       "0  2148  0.186833  0.027472  0.184325  0.173955  0.204731  0.030777  2.655225   \n",
       "1  1124  0.188879  0.060316  0.195537  0.138072  0.242975  0.104904  1.497393   \n",
       "2   170  0.150705  0.087127  0.174299  0.069666  0.226082  0.156416  2.603951   \n",
       "3  3158  0.183667  0.040607  0.182534  0.156480  0.207646  0.051166  2.054138   \n",
       "4  2229  0.205159  0.039543  0.210805  0.186667  0.228908  0.042241  2.099683   \n",
       "\n",
       "        kurt    sp.ent  ...      mode  centroid   meanfun    minfun    maxfun  \\\n",
       "0  10.565846  0.821812  ...  0.180645  0.186833  0.172790  0.023495  0.271186   \n",
       "1   5.037085  0.909425  ...  0.140386  0.188879  0.133092  0.050847  0.272727   \n",
       "2  22.328899  0.969287  ...  0.050181  0.150705  0.109992  0.017260  0.266667   \n",
       "3   7.483019  0.898138  ...  0.177040  0.183667  0.149237  0.018648  0.262295   \n",
       "4   7.562209  0.876002  ...  0.224885  0.205159  0.154736  0.047105  0.277457   \n",
       "\n",
       "    meandom    mindom     maxdom    dfrange   modindx  \n",
       "0  0.178571  0.007812   0.226562   0.218750  0.108929  \n",
       "1  0.855938  0.023438   8.718750   8.695312  0.098712  \n",
       "2  1.240954  0.007812   5.562500   5.554688  0.332396  \n",
       "3  0.550312  0.007812   3.421875   3.414062  0.166503  \n",
       "4  1.578835  0.187500  10.804688  10.617188  0.113644  \n",
       "\n",
       "[5 rows x 21 columns]"
      ]
     },
     "execution_count": 96,
     "metadata": {},
     "output_type": "execute_result"
    }
   ],
   "source": [
    "test_set.head()"
   ]
  },
  {
   "cell_type": "code",
   "execution_count": 97,
   "id": "251f60d9",
   "metadata": {},
   "outputs": [
    {
     "data": {
      "text/plain": [
       "Id          0\n",
       "meanfreq    0\n",
       "sd          0\n",
       "median      0\n",
       "Q25         0\n",
       "Q75         0\n",
       "IQR         0\n",
       "skew        0\n",
       "kurt        0\n",
       "sp.ent      0\n",
       "sfm         0\n",
       "mode        0\n",
       "centroid    0\n",
       "meanfun     0\n",
       "minfun      0\n",
       "maxfun      0\n",
       "meandom     0\n",
       "mindom      0\n",
       "maxdom      0\n",
       "dfrange     0\n",
       "modindx     0\n",
       "dtype: int64"
      ]
     },
     "execution_count": 97,
     "metadata": {},
     "output_type": "execute_result"
    }
   ],
   "source": [
    "test_set.isnull().sum()"
   ]
  },
  {
   "cell_type": "code",
   "execution_count": 98,
   "id": "69f335d5",
   "metadata": {},
   "outputs": [
    {
     "data": {
      "text/html": [
       "<div>\n",
       "<style scoped>\n",
       "    .dataframe tbody tr th:only-of-type {\n",
       "        vertical-align: middle;\n",
       "    }\n",
       "\n",
       "    .dataframe tbody tr th {\n",
       "        vertical-align: top;\n",
       "    }\n",
       "\n",
       "    .dataframe thead th {\n",
       "        text-align: right;\n",
       "    }\n",
       "</style>\n",
       "<table border=\"1\" class=\"dataframe\">\n",
       "  <thead>\n",
       "    <tr style=\"text-align: right;\">\n",
       "      <th></th>\n",
       "      <th>Id</th>\n",
       "      <th>meanfreq</th>\n",
       "      <th>sd</th>\n",
       "      <th>median</th>\n",
       "      <th>Q25</th>\n",
       "      <th>Q75</th>\n",
       "      <th>IQR</th>\n",
       "      <th>skew</th>\n",
       "      <th>kurt</th>\n",
       "      <th>sp.ent</th>\n",
       "      <th>...</th>\n",
       "      <th>mode</th>\n",
       "      <th>centroid</th>\n",
       "      <th>meanfun</th>\n",
       "      <th>minfun</th>\n",
       "      <th>maxfun</th>\n",
       "      <th>meandom</th>\n",
       "      <th>mindom</th>\n",
       "      <th>maxdom</th>\n",
       "      <th>dfrange</th>\n",
       "      <th>modindx</th>\n",
       "    </tr>\n",
       "  </thead>\n",
       "  <tbody>\n",
       "    <tr>\n",
       "      <th>count</th>\n",
       "      <td>317.000000</td>\n",
       "      <td>317.000000</td>\n",
       "      <td>317.000000</td>\n",
       "      <td>317.000000</td>\n",
       "      <td>317.000000</td>\n",
       "      <td>317.000000</td>\n",
       "      <td>317.000000</td>\n",
       "      <td>317.000000</td>\n",
       "      <td>317.000000</td>\n",
       "      <td>317.000000</td>\n",
       "      <td>...</td>\n",
       "      <td>317.000000</td>\n",
       "      <td>317.000000</td>\n",
       "      <td>317.000000</td>\n",
       "      <td>317.000000</td>\n",
       "      <td>317.000000</td>\n",
       "      <td>317.000000</td>\n",
       "      <td>317.000000</td>\n",
       "      <td>317.000000</td>\n",
       "      <td>317.000000</td>\n",
       "      <td>317.000000</td>\n",
       "    </tr>\n",
       "    <tr>\n",
       "      <th>mean</th>\n",
       "      <td>1510.962145</td>\n",
       "      <td>0.180760</td>\n",
       "      <td>0.056971</td>\n",
       "      <td>0.184712</td>\n",
       "      <td>0.141419</td>\n",
       "      <td>0.225080</td>\n",
       "      <td>0.083662</td>\n",
       "      <td>3.335314</td>\n",
       "      <td>43.404854</td>\n",
       "      <td>0.893467</td>\n",
       "      <td>...</td>\n",
       "      <td>0.163493</td>\n",
       "      <td>0.180760</td>\n",
       "      <td>0.142049</td>\n",
       "      <td>0.036509</td>\n",
       "      <td>0.257715</td>\n",
       "      <td>0.789667</td>\n",
       "      <td>0.052765</td>\n",
       "      <td>4.791241</td>\n",
       "      <td>4.738476</td>\n",
       "      <td>0.172115</td>\n",
       "    </tr>\n",
       "    <tr>\n",
       "      <th>std</th>\n",
       "      <td>954.569221</td>\n",
       "      <td>0.031038</td>\n",
       "      <td>0.017247</td>\n",
       "      <td>0.038034</td>\n",
       "      <td>0.049213</td>\n",
       "      <td>0.024820</td>\n",
       "      <td>0.043342</td>\n",
       "      <td>4.880362</td>\n",
       "      <td>163.137701</td>\n",
       "      <td>0.046645</td>\n",
       "      <td>...</td>\n",
       "      <td>0.079825</td>\n",
       "      <td>0.031038</td>\n",
       "      <td>0.033350</td>\n",
       "      <td>0.019584</td>\n",
       "      <td>0.032444</td>\n",
       "      <td>0.521110</td>\n",
       "      <td>0.066191</td>\n",
       "      <td>3.470459</td>\n",
       "      <td>3.468318</td>\n",
       "      <td>0.119550</td>\n",
       "    </tr>\n",
       "    <tr>\n",
       "      <th>min</th>\n",
       "      <td>0.000000</td>\n",
       "      <td>0.048254</td>\n",
       "      <td>0.024002</td>\n",
       "      <td>0.015790</td>\n",
       "      <td>0.000267</td>\n",
       "      <td>0.058268</td>\n",
       "      <td>0.017429</td>\n",
       "      <td>0.746617</td>\n",
       "      <td>2.627216</td>\n",
       "      <td>0.747695</td>\n",
       "      <td>...</td>\n",
       "      <td>0.000000</td>\n",
       "      <td>0.048254</td>\n",
       "      <td>0.074692</td>\n",
       "      <td>0.009911</td>\n",
       "      <td>0.103093</td>\n",
       "      <td>0.007812</td>\n",
       "      <td>0.004883</td>\n",
       "      <td>0.007812</td>\n",
       "      <td>0.000000</td>\n",
       "      <td>0.000000</td>\n",
       "    </tr>\n",
       "    <tr>\n",
       "      <th>25%</th>\n",
       "      <td>605.000000</td>\n",
       "      <td>0.163002</td>\n",
       "      <td>0.040663</td>\n",
       "      <td>0.168349</td>\n",
       "      <td>0.110614</td>\n",
       "      <td>0.208474</td>\n",
       "      <td>0.040808</td>\n",
       "      <td>1.722985</td>\n",
       "      <td>6.022468</td>\n",
       "      <td>0.857613</td>\n",
       "      <td>...</td>\n",
       "      <td>0.115893</td>\n",
       "      <td>0.163002</td>\n",
       "      <td>0.113616</td>\n",
       "      <td>0.018223</td>\n",
       "      <td>0.250000</td>\n",
       "      <td>0.389071</td>\n",
       "      <td>0.007812</td>\n",
       "      <td>1.230469</td>\n",
       "      <td>1.187500</td>\n",
       "      <td>0.103764</td>\n",
       "    </tr>\n",
       "    <tr>\n",
       "      <th>50%</th>\n",
       "      <td>1506.000000</td>\n",
       "      <td>0.184800</td>\n",
       "      <td>0.059159</td>\n",
       "      <td>0.189412</td>\n",
       "      <td>0.140728</td>\n",
       "      <td>0.225098</td>\n",
       "      <td>0.095429</td>\n",
       "      <td>2.264260</td>\n",
       "      <td>8.674648</td>\n",
       "      <td>0.901328</td>\n",
       "      <td>...</td>\n",
       "      <td>0.185904</td>\n",
       "      <td>0.184800</td>\n",
       "      <td>0.139353</td>\n",
       "      <td>0.042895</td>\n",
       "      <td>0.271186</td>\n",
       "      <td>0.744004</td>\n",
       "      <td>0.023438</td>\n",
       "      <td>4.921875</td>\n",
       "      <td>4.875000</td>\n",
       "      <td>0.144271</td>\n",
       "    </tr>\n",
       "    <tr>\n",
       "      <th>75%</th>\n",
       "      <td>2310.000000</td>\n",
       "      <td>0.200154</td>\n",
       "      <td>0.068873</td>\n",
       "      <td>0.210097</td>\n",
       "      <td>0.180614</td>\n",
       "      <td>0.242975</td>\n",
       "      <td>0.113143</td>\n",
       "      <td>2.911882</td>\n",
       "      <td>13.559708</td>\n",
       "      <td>0.927975</td>\n",
       "      <td>...</td>\n",
       "      <td>0.220350</td>\n",
       "      <td>0.200154</td>\n",
       "      <td>0.169202</td>\n",
       "      <td>0.047847</td>\n",
       "      <td>0.277457</td>\n",
       "      <td>1.128551</td>\n",
       "      <td>0.070312</td>\n",
       "      <td>6.742188</td>\n",
       "      <td>6.632812</td>\n",
       "      <td>0.202254</td>\n",
       "    </tr>\n",
       "    <tr>\n",
       "      <th>max</th>\n",
       "      <td>3158.000000</td>\n",
       "      <td>0.247041</td>\n",
       "      <td>0.110261</td>\n",
       "      <td>0.256631</td>\n",
       "      <td>0.238583</td>\n",
       "      <td>0.268528</td>\n",
       "      <td>0.245300</td>\n",
       "      <td>34.537488</td>\n",
       "      <td>1271.353628</td>\n",
       "      <td>0.972912</td>\n",
       "      <td>...</td>\n",
       "      <td>0.278072</td>\n",
       "      <td>0.247041</td>\n",
       "      <td>0.216739</td>\n",
       "      <td>0.158416</td>\n",
       "      <td>0.279114</td>\n",
       "      <td>2.515443</td>\n",
       "      <td>0.257812</td>\n",
       "      <td>20.484375</td>\n",
       "      <td>20.460938</td>\n",
       "      <td>0.728497</td>\n",
       "    </tr>\n",
       "  </tbody>\n",
       "</table>\n",
       "<p>8 rows × 21 columns</p>\n",
       "</div>"
      ],
      "text/plain": [
       "                Id    meanfreq          sd      median         Q25  \\\n",
       "count   317.000000  317.000000  317.000000  317.000000  317.000000   \n",
       "mean   1510.962145    0.180760    0.056971    0.184712    0.141419   \n",
       "std     954.569221    0.031038    0.017247    0.038034    0.049213   \n",
       "min       0.000000    0.048254    0.024002    0.015790    0.000267   \n",
       "25%     605.000000    0.163002    0.040663    0.168349    0.110614   \n",
       "50%    1506.000000    0.184800    0.059159    0.189412    0.140728   \n",
       "75%    2310.000000    0.200154    0.068873    0.210097    0.180614   \n",
       "max    3158.000000    0.247041    0.110261    0.256631    0.238583   \n",
       "\n",
       "              Q75         IQR        skew         kurt      sp.ent  ...  \\\n",
       "count  317.000000  317.000000  317.000000   317.000000  317.000000  ...   \n",
       "mean     0.225080    0.083662    3.335314    43.404854    0.893467  ...   \n",
       "std      0.024820    0.043342    4.880362   163.137701    0.046645  ...   \n",
       "min      0.058268    0.017429    0.746617     2.627216    0.747695  ...   \n",
       "25%      0.208474    0.040808    1.722985     6.022468    0.857613  ...   \n",
       "50%      0.225098    0.095429    2.264260     8.674648    0.901328  ...   \n",
       "75%      0.242975    0.113143    2.911882    13.559708    0.927975  ...   \n",
       "max      0.268528    0.245300   34.537488  1271.353628    0.972912  ...   \n",
       "\n",
       "             mode    centroid     meanfun      minfun      maxfun     meandom  \\\n",
       "count  317.000000  317.000000  317.000000  317.000000  317.000000  317.000000   \n",
       "mean     0.163493    0.180760    0.142049    0.036509    0.257715    0.789667   \n",
       "std      0.079825    0.031038    0.033350    0.019584    0.032444    0.521110   \n",
       "min      0.000000    0.048254    0.074692    0.009911    0.103093    0.007812   \n",
       "25%      0.115893    0.163002    0.113616    0.018223    0.250000    0.389071   \n",
       "50%      0.185904    0.184800    0.139353    0.042895    0.271186    0.744004   \n",
       "75%      0.220350    0.200154    0.169202    0.047847    0.277457    1.128551   \n",
       "max      0.278072    0.247041    0.216739    0.158416    0.279114    2.515443   \n",
       "\n",
       "           mindom      maxdom     dfrange     modindx  \n",
       "count  317.000000  317.000000  317.000000  317.000000  \n",
       "mean     0.052765    4.791241    4.738476    0.172115  \n",
       "std      0.066191    3.470459    3.468318    0.119550  \n",
       "min      0.004883    0.007812    0.000000    0.000000  \n",
       "25%      0.007812    1.230469    1.187500    0.103764  \n",
       "50%      0.023438    4.921875    4.875000    0.144271  \n",
       "75%      0.070312    6.742188    6.632812    0.202254  \n",
       "max      0.257812   20.484375   20.460938    0.728497  \n",
       "\n",
       "[8 rows x 21 columns]"
      ]
     },
     "execution_count": 98,
     "metadata": {},
     "output_type": "execute_result"
    }
   ],
   "source": [
    "test_set.describe()"
   ]
  },
  {
   "cell_type": "code",
   "execution_count": 99,
   "id": "e4698364",
   "metadata": {},
   "outputs": [],
   "source": [
    "X_new = test_set.drop(['Id'], axis=1)"
   ]
  },
  {
   "cell_type": "code",
   "execution_count": 100,
   "id": "ad7ab0dd",
   "metadata": {},
   "outputs": [],
   "source": [
    "scaler = StandardScaler()\n",
    "scaler.fit(X_new)\n",
    "X_new = scaler.transform(X_new)"
   ]
  },
  {
   "cell_type": "code",
   "execution_count": 101,
   "id": "25905e95",
   "metadata": {},
   "outputs": [
    {
     "name": "stdout",
     "output_type": "stream",
     "text": [
      "X_new shape: (317, 20)\n"
     ]
    }
   ],
   "source": [
    "print(\"X_new shape:\", X_new.shape)"
   ]
  },
  {
   "cell_type": "code",
   "execution_count": 102,
   "id": "796fc0e9",
   "metadata": {},
   "outputs": [
    {
     "data": {
      "text/plain": [
       "['svc.pkl']"
      ]
     },
     "execution_count": 102,
     "metadata": {},
     "output_type": "execute_result"
    }
   ],
   "source": [
    "import joblib\n",
    "\n",
    "# Save the trained model to a file.\n",
    "joblib.dump(optimized_svc, 'svc.pkl')"
   ]
  },
  {
   "cell_type": "code",
   "execution_count": 103,
   "id": "e28c7526",
   "metadata": {},
   "outputs": [],
   "source": [
    "import joblib\n",
    "\n",
    "# Load the trained model\n",
    "model = joblib.load('svc.pkl')"
   ]
  },
  {
   "cell_type": "code",
   "execution_count": 126,
   "id": "2750f7b6",
   "metadata": {},
   "outputs": [],
   "source": [
    "y_pred = model.predict(X_new)"
   ]
  },
  {
   "cell_type": "code",
   "execution_count": 127,
   "id": "9c5fadb9",
   "metadata": {},
   "outputs": [],
   "source": [
    "# Map the predictions from 0 and 1 to 1 and 2\n",
    "# Replace this mapping with your specific label conversion\n",
    "label_mapping = {0: 1, 1: 2}\n",
    "y_pred_mapped = [label_mapping[pred] for pred in y_pred]"
   ]
  },
  {
   "cell_type": "code",
   "execution_count": 129,
   "id": "effdfa31",
   "metadata": {},
   "outputs": [],
   "source": [
    "result_df = pd.DataFrame({'Id': test_set['Id'], 'Predicted_Label': y_pred_mapped})"
   ]
  },
  {
   "cell_type": "code",
   "execution_count": 132,
   "id": "82a4843b",
   "metadata": {},
   "outputs": [],
   "source": [
    "result_df.to_csv('mapped_predicted_labels.csv', index=False, header=False)"
   ]
  },
  {
   "cell_type": "code",
   "execution_count": null,
   "id": "8f32ae7e",
   "metadata": {},
   "outputs": [],
   "source": []
  }
 ],
 "metadata": {
  "kernelspec": {
   "display_name": "Python 3 (ipykernel)",
   "language": "python",
   "name": "python3"
  },
  "language_info": {
   "codemirror_mode": {
    "name": "ipython",
    "version": 3
   },
   "file_extension": ".py",
   "mimetype": "text/x-python",
   "name": "python",
   "nbconvert_exporter": "python",
   "pygments_lexer": "ipython3",
   "version": "3.10.9"
  }
 },
 "nbformat": 4,
 "nbformat_minor": 5
}
